{
 "cells": [
  {
   "cell_type": "markdown",
   "metadata": {},
   "source": [
    "# Upload data & load library"
   ]
  },
  {
   "cell_type": "code",
   "execution_count": 1,
   "metadata": {},
   "outputs": [],
   "source": [
    "import pandas as pd\n",
    "import numpy as np\n",
    "import seaborn as sns\n",
    "import matplotlib.pyplot as plt\n",
    "import plotly.express as px\n"
   ]
  },
  {
   "cell_type": "code",
   "execution_count": 2,
   "metadata": {},
   "outputs": [],
   "source": [
    "path = \"D:\\.vscode\\kodingan\\DataSource\\Chapter06DataSet.csv\"\n",
    "load_data = pd.read_csv(path)\n"
   ]
  },
  {
   "cell_type": "code",
   "execution_count": 3,
   "metadata": {},
   "outputs": [
    {
     "data": {
      "text/html": [
       "<div>\n",
       "<style scoped>\n",
       "    .dataframe tbody tr th:only-of-type {\n",
       "        vertical-align: middle;\n",
       "    }\n",
       "\n",
       "    .dataframe tbody tr th {\n",
       "        vertical-align: top;\n",
       "    }\n",
       "\n",
       "    .dataframe thead th {\n",
       "        text-align: right;\n",
       "    }\n",
       "</style>\n",
       "<table border=\"1\" class=\"dataframe\">\n",
       "  <thead>\n",
       "    <tr style=\"text-align: right;\">\n",
       "      <th></th>\n",
       "      <th>Weight</th>\n",
       "      <th>Cholesterol</th>\n",
       "      <th>Gender</th>\n",
       "    </tr>\n",
       "  </thead>\n",
       "  <tbody>\n",
       "    <tr>\n",
       "      <th>0</th>\n",
       "      <td>102</td>\n",
       "      <td>111</td>\n",
       "      <td>1</td>\n",
       "    </tr>\n",
       "    <tr>\n",
       "      <th>1</th>\n",
       "      <td>115</td>\n",
       "      <td>135</td>\n",
       "      <td>1</td>\n",
       "    </tr>\n",
       "    <tr>\n",
       "      <th>2</th>\n",
       "      <td>115</td>\n",
       "      <td>136</td>\n",
       "      <td>1</td>\n",
       "    </tr>\n",
       "    <tr>\n",
       "      <th>3</th>\n",
       "      <td>140</td>\n",
       "      <td>167</td>\n",
       "      <td>0</td>\n",
       "    </tr>\n",
       "    <tr>\n",
       "      <th>4</th>\n",
       "      <td>130</td>\n",
       "      <td>158</td>\n",
       "      <td>1</td>\n",
       "    </tr>\n",
       "  </tbody>\n",
       "</table>\n",
       "</div>"
      ],
      "text/plain": [
       "   Weight  Cholesterol  Gender\n",
       "0     102          111       1\n",
       "1     115          135       1\n",
       "2     115          136       1\n",
       "3     140          167       0\n",
       "4     130          158       1"
      ]
     },
     "execution_count": 3,
     "metadata": {},
     "output_type": "execute_result"
    }
   ],
   "source": [
    "data = pd.DataFrame(load_data)\n",
    "data.head()"
   ]
  },
  {
   "cell_type": "markdown",
   "metadata": {},
   "source": [
    "# Bussines Understanding\n",
    "Sabarudin Hidayah is a program director for a major health insurance provider. Recently she has been reading in medical journals and other articles, and found a strong emphasis on the influence of weight, gender and cholesterol on the development of coronary heart disease. The research she’s read confirms time after time that there is a connection between these three variables, and while there is little that can be done about one’s gender, there are certainly life choices that can be made to alter one’s cholesterol and weight. She begins brainstorming ideas for her company to offer weight and cholesterol management programs to individuals who receive health insurance through her employer. As she considers where her efforts might be most effective, she finds herself wondering if there are natural groups of individuals who are most at risk for high weight and high cholesterol, and if there are such groups, where the natural dividing lines between the groups occur.\n",
    "\n",
    "## Problem\n",
    "Problem : Clustering, unsupervised learning\n",
    "\n",
    "## Goal \n",
    "1. predictive tingkat reseiko jantung koroner dengan metode clustering\n",
    "\n",
    "## Algoritma \n",
    "Algoritma : k-means clustering\n",
    "\n"
   ]
  },
  {
   "cell_type": "markdown",
   "metadata": {},
   "source": [
    "# Data Understanding\n",
    "\n",
    "## tingkatan kolesterol \n",
    "1. normal : dibawah 200 mg/dl\n",
    "2. tinggi : diatas 200 mg/dl"
   ]
  },
  {
   "cell_type": "code",
   "execution_count": 4,
   "metadata": {},
   "outputs": [
    {
     "data": {
      "text/html": [
       "<div>\n",
       "<style scoped>\n",
       "    .dataframe tbody tr th:only-of-type {\n",
       "        vertical-align: middle;\n",
       "    }\n",
       "\n",
       "    .dataframe tbody tr th {\n",
       "        vertical-align: top;\n",
       "    }\n",
       "\n",
       "    .dataframe thead th {\n",
       "        text-align: right;\n",
       "    }\n",
       "</style>\n",
       "<table border=\"1\" class=\"dataframe\">\n",
       "  <thead>\n",
       "    <tr style=\"text-align: right;\">\n",
       "      <th></th>\n",
       "      <th>Weight</th>\n",
       "      <th>Cholesterol</th>\n",
       "      <th>Gender</th>\n",
       "    </tr>\n",
       "  </thead>\n",
       "  <tbody>\n",
       "    <tr>\n",
       "      <th>0</th>\n",
       "      <td>102</td>\n",
       "      <td>111</td>\n",
       "      <td>1</td>\n",
       "    </tr>\n",
       "    <tr>\n",
       "      <th>1</th>\n",
       "      <td>115</td>\n",
       "      <td>135</td>\n",
       "      <td>1</td>\n",
       "    </tr>\n",
       "    <tr>\n",
       "      <th>2</th>\n",
       "      <td>115</td>\n",
       "      <td>136</td>\n",
       "      <td>1</td>\n",
       "    </tr>\n",
       "    <tr>\n",
       "      <th>3</th>\n",
       "      <td>140</td>\n",
       "      <td>167</td>\n",
       "      <td>0</td>\n",
       "    </tr>\n",
       "    <tr>\n",
       "      <th>4</th>\n",
       "      <td>130</td>\n",
       "      <td>158</td>\n",
       "      <td>1</td>\n",
       "    </tr>\n",
       "    <tr>\n",
       "      <th>...</th>\n",
       "      <td>...</td>\n",
       "      <td>...</td>\n",
       "      <td>...</td>\n",
       "    </tr>\n",
       "    <tr>\n",
       "      <th>542</th>\n",
       "      <td>172</td>\n",
       "      <td>207</td>\n",
       "      <td>1</td>\n",
       "    </tr>\n",
       "    <tr>\n",
       "      <th>543</th>\n",
       "      <td>129</td>\n",
       "      <td>157</td>\n",
       "      <td>1</td>\n",
       "    </tr>\n",
       "    <tr>\n",
       "      <th>544</th>\n",
       "      <td>107</td>\n",
       "      <td>115</td>\n",
       "      <td>1</td>\n",
       "    </tr>\n",
       "    <tr>\n",
       "      <th>545</th>\n",
       "      <td>117</td>\n",
       "      <td>147</td>\n",
       "      <td>1</td>\n",
       "    </tr>\n",
       "    <tr>\n",
       "      <th>546</th>\n",
       "      <td>148</td>\n",
       "      <td>176</td>\n",
       "      <td>1</td>\n",
       "    </tr>\n",
       "  </tbody>\n",
       "</table>\n",
       "<p>547 rows × 3 columns</p>\n",
       "</div>"
      ],
      "text/plain": [
       "     Weight  Cholesterol  Gender\n",
       "0       102          111       1\n",
       "1       115          135       1\n",
       "2       115          136       1\n",
       "3       140          167       0\n",
       "4       130          158       1\n",
       "..      ...          ...     ...\n",
       "542     172          207       1\n",
       "543     129          157       1\n",
       "544     107          115       1\n",
       "545     117          147       1\n",
       "546     148          176       1\n",
       "\n",
       "[547 rows x 3 columns]"
      ]
     },
     "execution_count": 4,
     "metadata": {},
     "output_type": "execute_result"
    }
   ],
   "source": [
    "data"
   ]
  },
  {
   "cell_type": "code",
   "execution_count": 5,
   "metadata": {},
   "outputs": [
    {
     "data": {
      "text/plain": [
       "<seaborn.axisgrid.PairGrid at 0x145c35a5b50>"
      ]
     },
     "execution_count": 5,
     "metadata": {},
     "output_type": "execute_result"
    },
    {
     "data": {
      "image/png": "[encoded data removed]",
      "text/plain": [
       "<Figure size 750x750 with 12 Axes>"
      ]
     },
     "metadata": {},
     "output_type": "display_data"
    }
   ],
   "source": [
    "# scatter plot using seaborn\n",
    "sns.pairplot(data)"
   ]
  },
  {
   "cell_type": "code",
   "execution_count": 6,
   "metadata": {},
   "outputs": [
    {
     "data": {
      "image/png": "[encoded data removed]",
      "text/plain": [
       "<Figure size 1000x500 with 1 Axes>"
      ]
     },
     "metadata": {},
     "output_type": "display_data"
    }
   ],
   "source": [
    "plt.figure(figsize=(10, 5))\n",
    "sns.histplot(data=data, x=\"Cholesterol\", kde=False, bins=10)\n",
    "plt.title(\"Distribusi Berdasarkan Cholestrol\")\n",
    "plt.xlabel(\"Cholestrol\")\n",
    "plt.show()"
   ]
  },
  {
   "cell_type": "code",
   "execution_count": 7,
   "metadata": {},
   "outputs": [
    {
     "data": {
      "image/png": "[encoded data removed]",
      "text/plain": [
       "<Figure size 800x600 with 1 Axes>"
      ]
     },
     "metadata": {},
     "output_type": "display_data"
    }
   ],
   "source": [
    "# Membuat scatter plot Cholesterol vs. Weight\n",
    "plt.figure(figsize=(8, 6))\n",
    "plt.scatter(data[\"Weight\"], data[\"Cholesterol\"])\n",
    "plt.title(\"Scatter Plot Cholesterol vs. Weight\")\n",
    "plt.xlabel(\"Weight\")\n",
    "plt.ylabel(\"Cholesterol\")\n",
    "plt.grid()\n",
    "\n",
    "# Menampilkan plot\n",
    "plt.show()"
   ]
  },
  {
   "cell_type": "markdown",
   "metadata": {},
   "source": [
    "# Cholesterol vs Weight\n",
    "terdapat pola yang berbanding lurus antara kolesterol dan weight\n",
    "maka dikatakan semakin tinggi berat badan seseorang makin tinggi juga tingkat kolesterolnya"
   ]
  },
  {
   "cell_type": "code",
   "execution_count": 8,
   "metadata": {},
   "outputs": [
    {
     "data": {
      "image/png": "[encoded data removed]",
      "text/plain": [
       "<Figure size 800x600 with 1 Axes>"
      ]
     },
     "metadata": {},
     "output_type": "display_data"
    }
   ],
   "source": [
    "# Membuat scatter plot\n",
    "plt.figure(figsize=(8, 6))\n",
    "plt.scatter(data[\"Gender\"], data[\"Cholesterol\"])\n",
    "plt.title(\"Scatter Plot Cholesterol vs. Weight\")\n",
    "plt.xlabel(\"Gender\")\n",
    "plt.ylabel(\"Cholesterol\")\n",
    "plt.grid(True)\n",
    "\n",
    "# Menampilkan plot\n",
    "plt.show()"
   ]
  },
  {
   "cell_type": "markdown",
   "metadata": {},
   "source": []
  },
  {
   "cell_type": "markdown",
   "metadata": {},
   "source": [
    "## Colesterol Berdasarkan Jumlah Nasabah\n",
    "1. ada lebih dari 50 nasabah asuransi yang terindentifikasi high colesterol\n",
    "\n",
    "## evaluasi clustering\n",
    "di butuhkan untuk menentukan berapa nilai k yang akan di input kedalam n_cluster\n",
    "\n",
    "\n",
    "## gender vs colesterol \n",
    "\n",
    "antara laki-laki dan perempuna memmiliki kesamaan, berpeluang kolesterol tinggi\n",
    "\n",
    "## pengaruh weight vs colesterol\n",
    "jika weight bertambah kolesterol bertambah"
   ]
  },
  {
   "cell_type": "code",
   "execution_count": 9,
   "metadata": {},
   "outputs": [
    {
     "name": "stdout",
     "output_type": "stream",
     "text": [
      "<class 'pandas.core.frame.DataFrame'>\n",
      "RangeIndex: 547 entries, 0 to 546\n",
      "Data columns (total 3 columns):\n",
      " #   Column       Non-Null Count  Dtype\n",
      "---  ------       --------------  -----\n",
      " 0   Weight       547 non-null    int64\n",
      " 1   Cholesterol  547 non-null    int64\n",
      " 2   Gender       547 non-null    int64\n",
      "dtypes: int64(3)\n",
      "memory usage: 12.9 KB\n"
     ]
    }
   ],
   "source": [
    "data.info()"
   ]
  },
  {
   "cell_type": "code",
   "execution_count": 10,
   "metadata": {},
   "outputs": [
    {
     "data": {
      "text/plain": [
       "Weight         0\n",
       "Cholesterol    0\n",
       "Gender         0\n",
       "dtype: int64"
      ]
     },
     "execution_count": 10,
     "metadata": {},
     "output_type": "execute_result"
    }
   ],
   "source": [
    "data.isnull().sum()"
   ]
  },
  {
   "cell_type": "markdown",
   "metadata": {},
   "source": [
    "# Using KMeans clustering\n"
   ]
  },
  {
   "cell_type": "code",
   "execution_count": 11,
   "metadata": {},
   "outputs": [],
   "source": [
    "from sklearn.cluster import KMeans\n",
    "from sklearn.preprocessing import MinMaxScaler"
   ]
  },
  {
   "cell_type": "code",
   "execution_count": 12,
   "metadata": {},
   "outputs": [],
   "source": [
    "x = data[['Weight',\t'Cholesterol',\t'Gender']]"
   ]
  },
  {
   "cell_type": "code",
   "execution_count": 13,
   "metadata": {},
   "outputs": [
    {
     "name": "stderr",
     "output_type": "stream",
     "text": [
      "c:\\Users\\ANGELO\\AppData\\Local\\Programs\\Python\\Python39\\lib\\site-packages\\sklearn\\cluster\\_kmeans.py:1416: FutureWarning: The default value of `n_init` will change from 10 to 'auto' in 1.4. Set the value of `n_init` explicitly to suppress the warning\n",
      "  super()._check_params_vs_input(X, default_n_init=10)\n",
      "c:\\Users\\ANGELO\\AppData\\Local\\Programs\\Python\\Python39\\lib\\site-packages\\sklearn\\cluster\\_kmeans.py:1416: FutureWarning: The default value of `n_init` will change from 10 to 'auto' in 1.4. Set the value of `n_init` explicitly to suppress the warning\n",
      "  super()._check_params_vs_input(X, default_n_init=10)\n",
      "c:\\Users\\ANGELO\\AppData\\Local\\Programs\\Python\\Python39\\lib\\site-packages\\sklearn\\cluster\\_kmeans.py:1416: FutureWarning: The default value of `n_init` will change from 10 to 'auto' in 1.4. Set the value of `n_init` explicitly to suppress the warning\n",
      "  super()._check_params_vs_input(X, default_n_init=10)\n",
      "c:\\Users\\ANGELO\\AppData\\Local\\Programs\\Python\\Python39\\lib\\site-packages\\sklearn\\cluster\\_kmeans.py:1416: FutureWarning: The default value of `n_init` will change from 10 to 'auto' in 1.4. Set the value of `n_init` explicitly to suppress the warning\n",
      "  super()._check_params_vs_input(X, default_n_init=10)\n",
      "c:\\Users\\ANGELO\\AppData\\Local\\Programs\\Python\\Python39\\lib\\site-packages\\sklearn\\cluster\\_kmeans.py:1416: FutureWarning: The default value of `n_init` will change from 10 to 'auto' in 1.4. Set the value of `n_init` explicitly to suppress the warning\n",
      "  super()._check_params_vs_input(X, default_n_init=10)\n",
      "c:\\Users\\ANGELO\\AppData\\Local\\Programs\\Python\\Python39\\lib\\site-packages\\sklearn\\cluster\\_kmeans.py:1416: FutureWarning: The default value of `n_init` will change from 10 to 'auto' in 1.4. Set the value of `n_init` explicitly to suppress the warning\n",
      "  super()._check_params_vs_input(X, default_n_init=10)\n",
      "c:\\Users\\ANGELO\\AppData\\Local\\Programs\\Python\\Python39\\lib\\site-packages\\sklearn\\cluster\\_kmeans.py:1416: FutureWarning: The default value of `n_init` will change from 10 to 'auto' in 1.4. Set the value of `n_init` explicitly to suppress the warning\n",
      "  super()._check_params_vs_input(X, default_n_init=10)\n",
      "c:\\Users\\ANGELO\\AppData\\Local\\Programs\\Python\\Python39\\lib\\site-packages\\sklearn\\cluster\\_kmeans.py:1416: FutureWarning: The default value of `n_init` will change from 10 to 'auto' in 1.4. Set the value of `n_init` explicitly to suppress the warning\n",
      "  super()._check_params_vs_input(X, default_n_init=10)\n",
      "c:\\Users\\ANGELO\\AppData\\Local\\Programs\\Python\\Python39\\lib\\site-packages\\sklearn\\cluster\\_kmeans.py:1416: FutureWarning: The default value of `n_init` will change from 10 to 'auto' in 1.4. Set the value of `n_init` explicitly to suppress the warning\n",
      "  super()._check_params_vs_input(X, default_n_init=10)\n"
     ]
    },
    {
     "data": {
      "image/png": "[encoded data removed]",
      "text/plain": [
       "<Figure size 640x480 with 1 Axes>"
      ]
     },
     "metadata": {},
     "output_type": "display_data"
    }
   ],
   "source": [
    "cluster_range = range(1,10)\n",
    "cluster_wss = []\n",
    "\n",
    "for num_cluster in cluster_range:\n",
    "  clusters = KMeans(num_cluster)\n",
    "  clusters.fit(x)\n",
    "  cluster_wss.append(clusters.inertia_)\n",
    "\n",
    "plt.xlabel('Jumlah Cluster')\n",
    "plt.ylabel('WSS')\n",
    "plt.plot(cluster_range, cluster_wss, marker = 'o')\n",
    "plt.show()"
   ]
  },
  {
   "cell_type": "markdown",
   "metadata": {},
   "source": [
    "## elbow method \n",
    "salah satu teknik yang di gunakan dalam clustering untuk menentukan n cluster, dimana n adalah nilai terbaik\n",
    "\n",
    "WSS = within cluster sum of square\n",
    "\n",
    "\n",
    "nilai n cluster terbaik versi elbow method: 3 dan 4"
   ]
  },
  {
   "cell_type": "code",
   "execution_count": 14,
   "metadata": {},
   "outputs": [
    {
     "name": "stderr",
     "output_type": "stream",
     "text": [
      "c:\\Users\\ANGELO\\AppData\\Local\\Programs\\Python\\Python39\\lib\\site-packages\\sklearn\\cluster\\_kmeans.py:1416: FutureWarning: The default value of `n_init` will change from 10 to 'auto' in 1.4. Set the value of `n_init` explicitly to suppress the warning\n",
      "  super()._check_params_vs_input(X, default_n_init=10)\n"
     ]
    }
   ],
   "source": [
    "cls = KMeans(n_clusters=4, random_state=0)\n",
    "\n",
    "# membentuk model\n",
    "model_cls = cls.fit(x)\n",
    "\n"
   ]
  },
  {
   "cell_type": "code",
   "execution_count": 15,
   "metadata": {},
   "outputs": [
    {
     "data": {
      "text/html": [
       "<div>\n",
       "<style scoped>\n",
       "    .dataframe tbody tr th:only-of-type {\n",
       "        vertical-align: middle;\n",
       "    }\n",
       "\n",
       "    .dataframe tbody tr th {\n",
       "        vertical-align: top;\n",
       "    }\n",
       "\n",
       "    .dataframe thead th {\n",
       "        text-align: right;\n",
       "    }\n",
       "</style>\n",
       "<table border=\"1\" class=\"dataframe\">\n",
       "  <thead>\n",
       "    <tr style=\"text-align: right;\">\n",
       "      <th></th>\n",
       "      <th>Weight</th>\n",
       "      <th>Cholesterol</th>\n",
       "      <th>Gender</th>\n",
       "      <th>cluster</th>\n",
       "    </tr>\n",
       "  </thead>\n",
       "  <tbody>\n",
       "    <tr>\n",
       "      <th>0</th>\n",
       "      <td>102</td>\n",
       "      <td>111</td>\n",
       "      <td>1</td>\n",
       "      <td>2</td>\n",
       "    </tr>\n",
       "    <tr>\n",
       "      <th>1</th>\n",
       "      <td>115</td>\n",
       "      <td>135</td>\n",
       "      <td>1</td>\n",
       "      <td>2</td>\n",
       "    </tr>\n",
       "    <tr>\n",
       "      <th>2</th>\n",
       "      <td>115</td>\n",
       "      <td>136</td>\n",
       "      <td>1</td>\n",
       "      <td>2</td>\n",
       "    </tr>\n",
       "    <tr>\n",
       "      <th>3</th>\n",
       "      <td>140</td>\n",
       "      <td>167</td>\n",
       "      <td>0</td>\n",
       "      <td>0</td>\n",
       "    </tr>\n",
       "    <tr>\n",
       "      <th>4</th>\n",
       "      <td>130</td>\n",
       "      <td>158</td>\n",
       "      <td>1</td>\n",
       "      <td>0</td>\n",
       "    </tr>\n",
       "    <tr>\n",
       "      <th>...</th>\n",
       "      <td>...</td>\n",
       "      <td>...</td>\n",
       "      <td>...</td>\n",
       "      <td>...</td>\n",
       "    </tr>\n",
       "    <tr>\n",
       "      <th>542</th>\n",
       "      <td>172</td>\n",
       "      <td>207</td>\n",
       "      <td>1</td>\n",
       "      <td>1</td>\n",
       "    </tr>\n",
       "    <tr>\n",
       "      <th>543</th>\n",
       "      <td>129</td>\n",
       "      <td>157</td>\n",
       "      <td>1</td>\n",
       "      <td>0</td>\n",
       "    </tr>\n",
       "    <tr>\n",
       "      <th>544</th>\n",
       "      <td>107</td>\n",
       "      <td>115</td>\n",
       "      <td>1</td>\n",
       "      <td>2</td>\n",
       "    </tr>\n",
       "    <tr>\n",
       "      <th>545</th>\n",
       "      <td>117</td>\n",
       "      <td>147</td>\n",
       "      <td>1</td>\n",
       "      <td>0</td>\n",
       "    </tr>\n",
       "    <tr>\n",
       "      <th>546</th>\n",
       "      <td>148</td>\n",
       "      <td>176</td>\n",
       "      <td>1</td>\n",
       "      <td>3</td>\n",
       "    </tr>\n",
       "  </tbody>\n",
       "</table>\n",
       "<p>547 rows × 4 columns</p>\n",
       "</div>"
      ],
      "text/plain": [
       "     Weight  Cholesterol  Gender  cluster\n",
       "0       102          111       1        2\n",
       "1       115          135       1        2\n",
       "2       115          136       1        2\n",
       "3       140          167       0        0\n",
       "4       130          158       1        0\n",
       "..      ...          ...     ...      ...\n",
       "542     172          207       1        1\n",
       "543     129          157       1        0\n",
       "544     107          115       1        2\n",
       "545     117          147       1        0\n",
       "546     148          176       1        3\n",
       "\n",
       "[547 rows x 4 columns]"
      ]
     },
     "execution_count": 15,
     "metadata": {},
     "output_type": "execute_result"
    }
   ],
   "source": [
    "data['cluster'] = model_cls.labels_\n",
    "data"
   ]
  },
  {
   "cell_type": "code",
   "execution_count": 16,
   "metadata": {},
   "outputs": [
    {
     "data": {
      "text/plain": [
       "cluster\n",
       "1    154\n",
       "2    140\n",
       "0    135\n",
       "3    118\n",
       "Name: count, dtype: int64"
      ]
     },
     "execution_count": 16,
     "metadata": {},
     "output_type": "execute_result"
    }
   ],
   "source": [
    "data['cluster'].value_counts()"
   ]
  },
  {
   "cell_type": "code",
   "execution_count": 17,
   "metadata": {},
   "outputs": [
    {
     "data": {
      "application/vnd.plotly.v1+json": {
       "config": {
        "plotlyServerURL": "https://plot.ly"
       },
       "data": [
        {
         "customdata": [
          [
           "low risk"
          ],
          [
           "low risk"
          ],
          [
           "low risk"
          ],
          [
           "medium risk"
          ],
          [
           "medium risk"
          ],
          [
           "high risk"
          ],
          [
           "low risk"
          ],
          [
           "potentially high risk"
          ],
          [
           "high risk"
          ],
          [
           "high risk"
          ],
          [
           "low risk"
          ],
          [
           "high risk"
          ],
          [
           "low risk"
          ],
          [
           "potentially high risk"
          ],
          [
           "medium risk"
          ],
          [
           "high risk"
          ],
          [
           "low risk"
          ],
          [
           "high risk"
          ],
          [
           "potentially high risk"
          ],
          [
           "medium risk"
          ],
          [
           "potentially high risk"
          ],
          [
           "low risk"
          ],
          [
           "high risk"
          ],
          [
           "medium risk"
          ],
          [
           "low risk"
          ],
          [
           "high risk"
          ],
          [
           "low risk"
          ],
          [
           "high risk"
          ],
          [
           "high risk"
          ],
          [
           "potentially high risk"
          ],
          [
           "high risk"
          ],
          [
           "medium risk"
          ],
          [
           "potentially high risk"
          ],
          [
           "low risk"
          ],
          [
           "high risk"
          ],
          [
           "low risk"
          ],
          [
           "high risk"
          ],
          [
           "low risk"
          ],
          [
           "medium risk"
          ],
          [
           "potentially high risk"
          ],
          [
           "high risk"
          ],
          [
           "potentially high risk"
          ],
          [
           "medium risk"
          ],
          [
           "high risk"
          ],
          [
           "high risk"
          ],
          [
           "medium risk"
          ],
          [
           "high risk"
          ],
          [
           "medium risk"
          ],
          [
           "medium risk"
          ],
          [
           "low risk"
          ],
          [
           "low risk"
          ],
          [
           "potentially high risk"
          ],
          [
           "high risk"
          ],
          [
           "potentially high risk"
          ],
          [
           "low risk"
          ],
          [
           "potentially high risk"
          ],
          [
           "potentially high risk"
          ],
          [
           "high risk"
          ],
          [
           "medium risk"
          ],
          [
           "potentially high risk"
          ],
          [
           "low risk"
          ],
          [
           "potentially high risk"
          ],
          [
           "low risk"
          ],
          [
           "high risk"
          ],
          [
           "medium risk"
          ],
          [
           "potentially high risk"
          ],
          [
           "low risk"
          ],
          [
           "potentially high risk"
          ],
          [
           "high risk"
          ],
          [
           "medium risk"
          ],
          [
           "medium risk"
          ],
          [
           "medium risk"
          ],
          [
           "medium risk"
          ],
          [
           "potentially high risk"
          ],
          [
           "high risk"
          ],
          [
           "low risk"
          ],
          [
           "medium risk"
          ],
          [
           "high risk"
          ],
          [
           "low risk"
          ],
          [
           "medium risk"
          ],
          [
           "medium risk"
          ],
          [
           "low risk"
          ],
          [
           "high risk"
          ],
          [
           "medium risk"
          ],
          [
           "low risk"
          ],
          [
           "medium risk"
          ],
          [
           "potentially high risk"
          ],
          [
           "medium risk"
          ],
          [
           "medium risk"
          ],
          [
           "low risk"
          ],
          [
           "potentially high risk"
          ],
          [
           "high risk"
          ],
          [
           "low risk"
          ],
          [
           "low risk"
          ],
          [
           "low risk"
          ],
          [
           "medium risk"
          ],
          [
           "medium risk"
          ],
          [
           "potentially high risk"
          ],
          [
           "low risk"
          ],
          [
           "low risk"
          ],
          [
           "potentially high risk"
          ],
          [
           "high risk"
          ],
          [
           "low risk"
          ],
          [
           "medium risk"
          ],
          [
           "high risk"
          ],
          [
           "high risk"
          ],
          [
           "low risk"
          ],
          [
           "potentially high risk"
          ],
          [
           "low risk"
          ],
          [
           "high risk"
          ],
          [
           "medium risk"
          ],
          [
           "high risk"
          ],
          [
           "medium risk"
          ],
          [
           "low risk"
          ],
          [
           "high risk"
          ],
          [
           "low risk"
          ],
          [
           "medium risk"
          ],
          [
           "medium risk"
          ],
          [
           "potentially high risk"
          ],
          [
           "medium risk"
          ],
          [
           "high risk"
          ],
          [
           "low risk"
          ],
          [
           "potentially high risk"
          ],
          [
           "high risk"
          ],
          [
           "high risk"
          ],
          [
           "low risk"
          ],
          [
           "high risk"
          ],
          [
           "low risk"
          ],
          [
           "potentially high risk"
          ],
          [
           "medium risk"
          ],
          [
           "high risk"
          ],
          [
           "low risk"
          ],
          [
           "high risk"
          ],
          [
           "potentially high risk"
          ],
          [
           "medium risk"
          ],
          [
           "potentially high risk"
          ],
          [
           "low risk"
          ],
          [
           "high risk"
          ],
          [
           "potentially high risk"
          ],
          [
           "low risk"
          ],
          [
           "high risk"
          ],
          [
           "low risk"
          ],
          [
           "high risk"
          ],
          [
           "high risk"
          ],
          [
           "potentially high risk"
          ],
          [
           "high risk"
          ],
          [
           "potentially high risk"
          ],
          [
           "potentially high risk"
          ],
          [
           "low risk"
          ],
          [
           "high risk"
          ],
          [
           "low risk"
          ],
          [
           "high risk"
          ],
          [
           "low risk"
          ],
          [
           "medium risk"
          ],
          [
           "high risk"
          ],
          [
           "high risk"
          ],
          [
           "potentially high risk"
          ],
          [
           "medium risk"
          ],
          [
           "high risk"
          ],
          [
           "high risk"
          ],
          [
           "medium risk"
          ],
          [
           "high risk"
          ],
          [
           "medium risk"
          ],
          [
           "medium risk"
          ],
          [
           "low risk"
          ],
          [
           "medium risk"
          ],
          [
           "potentially high risk"
          ],
          [
           "high risk"
          ],
          [
           "potentially high risk"
          ],
          [
           "low risk"
          ],
          [
           "high risk"
          ],
          [
           "potentially high risk"
          ],
          [
           "high risk"
          ],
          [
           "medium risk"
          ],
          [
           "potentially high risk"
          ],
          [
           "low risk"
          ],
          [
           "potentially high risk"
          ],
          [
           "low risk"
          ],
          [
           "high risk"
          ],
          [
           "potentially high risk"
          ],
          [
           "potentially high risk"
          ],
          [
           "low risk"
          ],
          [
           "potentially high risk"
          ],
          [
           "high risk"
          ],
          [
           "medium risk"
          ],
          [
           "medium risk"
          ],
          [
           "medium risk"
          ],
          [
           "medium risk"
          ],
          [
           "potentially high risk"
          ],
          [
           "high risk"
          ],
          [
           "low risk"
          ],
          [
           "medium risk"
          ],
          [
           "high risk"
          ],
          [
           "low risk"
          ],
          [
           "medium risk"
          ],
          [
           "medium risk"
          ],
          [
           "low risk"
          ],
          [
           "high risk"
          ],
          [
           "medium risk"
          ],
          [
           "low risk"
          ],
          [
           "medium risk"
          ],
          [
           "potentially high risk"
          ],
          [
           "potentially high risk"
          ],
          [
           "medium risk"
          ],
          [
           "low risk"
          ],
          [
           "potentially high risk"
          ],
          [
           "high risk"
          ],
          [
           "low risk"
          ],
          [
           "low risk"
          ],
          [
           "low risk"
          ],
          [
           "medium risk"
          ],
          [
           "medium risk"
          ],
          [
           "potentially high risk"
          ],
          [
           "low risk"
          ],
          [
           "low risk"
          ],
          [
           "potentially high risk"
          ],
          [
           "high risk"
          ],
          [
           "low risk"
          ],
          [
           "medium risk"
          ],
          [
           "high risk"
          ],
          [
           "high risk"
          ],
          [
           "medium risk"
          ],
          [
           "potentially high risk"
          ],
          [
           "low risk"
          ],
          [
           "high risk"
          ],
          [
           "medium risk"
          ],
          [
           "high risk"
          ],
          [
           "medium risk"
          ],
          [
           "low risk"
          ],
          [
           "high risk"
          ],
          [
           "low risk"
          ],
          [
           "medium risk"
          ],
          [
           "medium risk"
          ],
          [
           "potentially high risk"
          ],
          [
           "medium risk"
          ],
          [
           "high risk"
          ],
          [
           "low risk"
          ],
          [
           "potentially high risk"
          ],
          [
           "high risk"
          ],
          [
           "high risk"
          ],
          [
           "low risk"
          ],
          [
           "high risk"
          ],
          [
           "low risk"
          ],
          [
           "potentially high risk"
          ],
          [
           "medium risk"
          ],
          [
           "high risk"
          ],
          [
           "low risk"
          ],
          [
           "high risk"
          ],
          [
           "potentially high risk"
          ],
          [
           "medium risk"
          ],
          [
           "potentially high risk"
          ],
          [
           "low risk"
          ],
          [
           "high risk"
          ],
          [
           "potentially high risk"
          ],
          [
           "low risk"
          ],
          [
           "high risk"
          ],
          [
           "low risk"
          ],
          [
           "high risk"
          ],
          [
           "high risk"
          ],
          [
           "potentially high risk"
          ],
          [
           "high risk"
          ],
          [
           "potentially high risk"
          ],
          [
           "potentially high risk"
          ],
          [
           "low risk"
          ],
          [
           "high risk"
          ],
          [
           "low risk"
          ],
          [
           "high risk"
          ],
          [
           "low risk"
          ],
          [
           "medium risk"
          ],
          [
           "high risk"
          ],
          [
           "high risk"
          ],
          [
           "potentially high risk"
          ],
          [
           "medium risk"
          ],
          [
           "high risk"
          ],
          [
           "high risk"
          ],
          [
           "medium risk"
          ],
          [
           "high risk"
          ],
          [
           "medium risk"
          ],
          [
           "medium risk"
          ],
          [
           "low risk"
          ],
          [
           "medium risk"
          ],
          [
           "high risk"
          ],
          [
           "high risk"
          ],
          [
           "potentially high risk"
          ],
          [
           "low risk"
          ],
          [
           "potentially high risk"
          ],
          [
           "potentially high risk"
          ],
          [
           "high risk"
          ],
          [
           "medium risk"
          ],
          [
           "potentially high risk"
          ],
          [
           "low risk"
          ],
          [
           "potentially high risk"
          ],
          [
           "low risk"
          ],
          [
           "high risk"
          ],
          [
           "potentially high risk"
          ],
          [
           "potentially high risk"
          ],
          [
           "low risk"
          ],
          [
           "potentially high risk"
          ],
          [
           "high risk"
          ],
          [
           "medium risk"
          ],
          [
           "medium risk"
          ],
          [
           "medium risk"
          ],
          [
           "medium risk"
          ],
          [
           "potentially high risk"
          ],
          [
           "high risk"
          ],
          [
           "low risk"
          ],
          [
           "medium risk"
          ],
          [
           "high risk"
          ],
          [
           "low risk"
          ],
          [
           "medium risk"
          ],
          [
           "medium risk"
          ],
          [
           "low risk"
          ],
          [
           "high risk"
          ],
          [
           "medium risk"
          ],
          [
           "low risk"
          ],
          [
           "medium risk"
          ],
          [
           "potentially high risk"
          ],
          [
           "potentially high risk"
          ],
          [
           "medium risk"
          ],
          [
           "low risk"
          ],
          [
           "potentially high risk"
          ],
          [
           "high risk"
          ],
          [
           "low risk"
          ],
          [
           "low risk"
          ],
          [
           "low risk"
          ],
          [
           "medium risk"
          ],
          [
           "medium risk"
          ],
          [
           "potentially high risk"
          ],
          [
           "low risk"
          ],
          [
           "low risk"
          ],
          [
           "potentially high risk"
          ],
          [
           "high risk"
          ],
          [
           "low risk"
          ],
          [
           "medium risk"
          ],
          [
           "high risk"
          ],
          [
           "high risk"
          ],
          [
           "low risk"
          ],
          [
           "potentially high risk"
          ],
          [
           "low risk"
          ],
          [
           "high risk"
          ],
          [
           "medium risk"
          ],
          [
           "high risk"
          ],
          [
           "medium risk"
          ],
          [
           "low risk"
          ],
          [
           "high risk"
          ],
          [
           "low risk"
          ],
          [
           "medium risk"
          ],
          [
           "medium risk"
          ],
          [
           "potentially high risk"
          ],
          [
           "medium risk"
          ],
          [
           "high risk"
          ],
          [
           "low risk"
          ],
          [
           "potentially high risk"
          ],
          [
           "high risk"
          ],
          [
           "high risk"
          ],
          [
           "low risk"
          ],
          [
           "high risk"
          ],
          [
           "low risk"
          ],
          [
           "potentially high risk"
          ],
          [
           "medium risk"
          ],
          [
           "high risk"
          ],
          [
           "low risk"
          ],
          [
           "high risk"
          ],
          [
           "potentially high risk"
          ],
          [
           "medium risk"
          ],
          [
           "potentially high risk"
          ],
          [
           "low risk"
          ],
          [
           "high risk"
          ],
          [
           "potentially high risk"
          ],
          [
           "low risk"
          ],
          [
           "high risk"
          ],
          [
           "low risk"
          ],
          [
           "high risk"
          ],
          [
           "high risk"
          ],
          [
           "potentially high risk"
          ],
          [
           "high risk"
          ],
          [
           "medium risk"
          ],
          [
           "potentially high risk"
          ],
          [
           "low risk"
          ],
          [
           "high risk"
          ],
          [
           "low risk"
          ],
          [
           "high risk"
          ],
          [
           "low risk"
          ],
          [
           "medium risk"
          ],
          [
           "high risk"
          ],
          [
           "high risk"
          ],
          [
           "potentially high risk"
          ],
          [
           "medium risk"
          ],
          [
           "high risk"
          ],
          [
           "high risk"
          ],
          [
           "medium risk"
          ],
          [
           "high risk"
          ],
          [
           "medium risk"
          ],
          [
           "medium risk"
          ],
          [
           "low risk"
          ],
          [
           "medium risk"
          ],
          [
           "potentially high risk"
          ],
          [
           "high risk"
          ],
          [
           "potentially high risk"
          ],
          [
           "low risk"
          ],
          [
           "potentially high risk"
          ],
          [
           "potentially high risk"
          ],
          [
           "high risk"
          ],
          [
           "medium risk"
          ],
          [
           "potentially high risk"
          ],
          [
           "low risk"
          ],
          [
           "potentially high risk"
          ],
          [
           "low risk"
          ],
          [
           "high risk"
          ],
          [
           "potentially high risk"
          ],
          [
           "potentially high risk"
          ],
          [
           "low risk"
          ],
          [
           "potentially high risk"
          ],
          [
           "high risk"
          ],
          [
           "medium risk"
          ],
          [
           "medium risk"
          ],
          [
           "medium risk"
          ],
          [
           "medium risk"
          ],
          [
           "potentially high risk"
          ],
          [
           "high risk"
          ],
          [
           "low risk"
          ],
          [
           "medium risk"
          ],
          [
           "high risk"
          ],
          [
           "low risk"
          ],
          [
           "medium risk"
          ],
          [
           "medium risk"
          ],
          [
           "low risk"
          ],
          [
           "high risk"
          ],
          [
           "medium risk"
          ],
          [
           "low risk"
          ],
          [
           "medium risk"
          ],
          [
           "potentially high risk"
          ],
          [
           "medium risk"
          ],
          [
           "medium risk"
          ],
          [
           "low risk"
          ],
          [
           "potentially high risk"
          ],
          [
           "high risk"
          ],
          [
           "low risk"
          ],
          [
           "low risk"
          ],
          [
           "low risk"
          ],
          [
           "medium risk"
          ],
          [
           "medium risk"
          ],
          [
           "potentially high risk"
          ],
          [
           "low risk"
          ],
          [
           "low risk"
          ],
          [
           "potentially high risk"
          ],
          [
           "high risk"
          ],
          [
           "low risk"
          ],
          [
           "medium risk"
          ],
          [
           "high risk"
          ],
          [
           "high risk"
          ],
          [
           "medium risk"
          ],
          [
           "potentially high risk"
          ],
          [
           "low risk"
          ],
          [
           "high risk"
          ],
          [
           "medium risk"
          ],
          [
           "high risk"
          ],
          [
           "medium risk"
          ],
          [
           "low risk"
          ],
          [
           "high risk"
          ],
          [
           "low risk"
          ],
          [
           "medium risk"
          ],
          [
           "medium risk"
          ],
          [
           "potentially high risk"
          ],
          [
           "medium risk"
          ],
          [
           "high risk"
          ],
          [
           "medium risk"
          ],
          [
           "potentially high risk"
          ],
          [
           "high risk"
          ],
          [
           "high risk"
          ],
          [
           "low risk"
          ],
          [
           "high risk"
          ],
          [
           "low risk"
          ],
          [
           "potentially high risk"
          ],
          [
           "medium risk"
          ],
          [
           "high risk"
          ],
          [
           "low risk"
          ],
          [
           "high risk"
          ],
          [
           "potentially high risk"
          ],
          [
           "medium risk"
          ],
          [
           "potentially high risk"
          ],
          [
           "low risk"
          ],
          [
           "high risk"
          ],
          [
           "potentially high risk"
          ],
          [
           "low risk"
          ],
          [
           "high risk"
          ],
          [
           "low risk"
          ],
          [
           "high risk"
          ],
          [
           "high risk"
          ],
          [
           "potentially high risk"
          ],
          [
           "high risk"
          ],
          [
           "potentially high risk"
          ],
          [
           "potentially high risk"
          ],
          [
           "low risk"
          ],
          [
           "high risk"
          ],
          [
           "low risk"
          ],
          [
           "high risk"
          ],
          [
           "low risk"
          ],
          [
           "medium risk"
          ],
          [
           "high risk"
          ],
          [
           "high risk"
          ],
          [
           "potentially high risk"
          ],
          [
           "medium risk"
          ],
          [
           "high risk"
          ],
          [
           "high risk"
          ],
          [
           "medium risk"
          ],
          [
           "high risk"
          ],
          [
           "medium risk"
          ],
          [
           "medium risk"
          ],
          [
           "low risk"
          ],
          [
           "medium risk"
          ],
          [
           "potentially high risk"
          ],
          [
           "high risk"
          ],
          [
           "potentially high risk"
          ],
          [
           "low risk"
          ],
          [
           "potentially high risk"
          ],
          [
           "potentially high risk"
          ],
          [
           "high risk"
          ],
          [
           "medium risk"
          ],
          [
           "potentially high risk"
          ],
          [
           "low risk"
          ],
          [
           "potentially high risk"
          ],
          [
           "low risk"
          ],
          [
           "high risk"
          ],
          [
           "potentially high risk"
          ],
          [
           "potentially high risk"
          ],
          [
           "low risk"
          ],
          [
           "potentially high risk"
          ],
          [
           "high risk"
          ],
          [
           "potentially high risk"
          ],
          [
           "medium risk"
          ],
          [
           "medium risk"
          ],
          [
           "medium risk"
          ],
          [
           "potentially high risk"
          ],
          [
           "high risk"
          ],
          [
           "low risk"
          ],
          [
           "medium risk"
          ],
          [
           "high risk"
          ],
          [
           "low risk"
          ],
          [
           "medium risk"
          ],
          [
           "medium risk"
          ],
          [
           "low risk"
          ],
          [
           "high risk"
          ],
          [
           "medium risk"
          ],
          [
           "low risk"
          ],
          [
           "medium risk"
          ],
          [
           "potentially high risk"
          ]
         ],
         "hovertemplate": "Weight=%{marker.size}<br>Cholesterol=%{y}<br>Cluster_Label=%{customdata[0]}<br>cluster=%{marker.color}<extra></extra>",
         "legendgroup": "",
         "marker": {
          "color": [
           2,
           2,
           2,
           0,
           0,
           1,
           2,
           3,
           1,
           1,
           2,
           1,
           2,
           3,
           0,
           1,
           2,
           1,
           3,
           0,
           3,
           2,
           1,
           0,
           2,
           1,
           2,
           1,
           1,
           3,
           1,
           0,
           3,
           2,
           1,
           2,
           1,
           2,
           0,
           3,
           1,
           3,
           0,
           1,
           1,
           0,
           1,
           0,
           0,
           2,
           2,
           3,
           1,
           3,
           2,
           3,
           3,
           1,
           0,
           3,
           2,
           3,
           2,
           1,
           0,
           3,
           2,
           3,
           1,
           0,
           0,
           0,
           0,
           3,
           1,
           2,
           0,
           1,
           2,
           0,
           0,
           2,
           1,
           0,
           2,
           0,
           3,
           0,
           0,
           2,
           3,
           1,
           2,
           2,
           2,
           0,
           0,
           3,
           2,
           2,
           3,
           1,
           2,
           0,
           1,
           1,
           2,
           3,
           2,
           1,
           0,
           1,
           0,
           2,
           1,
           2,
           0,
           0,
           3,
           0,
           1,
           2,
           3,
           1,
           1,
           2,
           1,
           2,
           3,
           0,
           1,
           2,
           1,
           3,
           0,
           3,
           2,
           1,
           3,
           2,
           1,
           2,
           1,
           1,
           3,
           1,
           3,
           3,
           2,
           1,
           2,
           1,
           2,
           0,
           1,
           1,
           3,
           0,
           1,
           1,
           0,
           1,
           0,
           0,
           2,
           0,
           3,
           1,
           3,
           2,
           1,
           3,
           1,
           0,
           3,
           2,
           3,
           2,
           1,
           3,
           3,
           2,
           3,
           1,
           0,
           0,
           0,
           0,
           3,
           1,
           2,
           0,
           1,
           2,
           0,
           0,
           2,
           1,
           0,
           2,
           0,
           3,
           3,
           0,
           2,
           3,
           1,
           2,
           2,
           2,
           0,
           0,
           3,
           2,
           2,
           3,
           1,
           2,
           0,
           1,
           1,
           0,
           3,
           2,
           1,
           0,
           1,
           0,
           2,
           1,
           2,
           0,
           0,
           3,
           0,
           1,
           2,
           3,
           1,
           1,
           2,
           1,
           2,
           3,
           0,
           1,
           2,
           1,
           3,
           0,
           3,
           2,
           1,
           3,
           2,
           1,
           2,
           1,
           1,
           3,
           1,
           3,
           3,
           2,
           1,
           2,
           1,
           2,
           0,
           1,
           1,
           3,
           0,
           1,
           1,
           0,
           1,
           0,
           0,
           2,
           0,
           1,
           1,
           3,
           2,
           3,
           3,
           1,
           0,
           3,
           2,
           3,
           2,
           1,
           3,
           3,
           2,
           3,
           1,
           0,
           0,
           0,
           0,
           3,
           1,
           2,
           0,
           1,
           2,
           0,
           0,
           2,
           1,
           0,
           2,
           0,
           3,
           3,
           0,
           2,
           3,
           1,
           2,
           2,
           2,
           0,
           0,
           3,
           2,
           2,
           3,
           1,
           2,
           0,
           1,
           1,
           2,
           3,
           2,
           1,
           0,
           1,
           0,
           2,
           1,
           2,
           0,
           0,
           3,
           0,
           1,
           2,
           3,
           1,
           1,
           2,
           1,
           2,
           3,
           0,
           1,
           2,
           1,
           3,
           0,
           3,
           2,
           1,
           3,
           2,
           1,
           2,
           1,
           1,
           3,
           1,
           0,
           3,
           2,
           1,
           2,
           1,
           2,
           0,
           1,
           1,
           3,
           0,
           1,
           1,
           0,
           1,
           0,
           0,
           2,
           0,
           3,
           1,
           3,
           2,
           3,
           3,
           1,
           0,
           3,
           2,
           3,
           2,
           1,
           3,
           3,
           2,
           3,
           1,
           0,
           0,
           0,
           0,
           3,
           1,
           2,
           0,
           1,
           2,
           0,
           0,
           2,
           1,
           0,
           2,
           0,
           3,
           0,
           0,
           2,
           3,
           1,
           2,
           2,
           2,
           0,
           0,
           3,
           2,
           2,
           3,
           1,
           2,
           0,
           1,
           1,
           0,
           3,
           2,
           1,
           0,
           1,
           0,
           2,
           1,
           2,
           0,
           0,
           3,
           0,
           1,
           0,
           3,
           1,
           1,
           2,
           1,
           2,
           3,
           0,
           1,
           2,
           1,
           3,
           0,
           3,
           2,
           1,
           3,
           2,
           1,
           2,
           1,
           1,
           3,
           1,
           3,
           3,
           2,
           1,
           2,
           1,
           2,
           0,
           1,
           1,
           3,
           0,
           1,
           1,
           0,
           1,
           0,
           0,
           2,
           0,
           3,
           1,
           3,
           2,
           3,
           3,
           1,
           0,
           3,
           2,
           3,
           2,
           1,
           3,
           3,
           2,
           3,
           1,
           3,
           0,
           0,
           0,
           3,
           1,
           2,
           0,
           1,
           2,
           0,
           0,
           2,
           1,
           0,
           2,
           0,
           3
          ],
          "coloraxis": "coloraxis",
          "size": [
           102,
           115,
           115,
           140,
           130,
           198,
           114,
           145,
           191,
           186,
           104,
           188,
           96,
           156,
           125,
           178,
           109,
           168,
           152,
           133,
           153,
           107,
           199,
           140,
           95,
           183,
           108,
           190,
           174,
           149,
           169,
           138,
           151,
           109,
           178,
           106,
           195,
           96,
           129,
           166,
           197,
           148,
           117,
           193,
           170,
           130,
           183,
           134,
           128,
           105,
           115,
           166,
           183,
           149,
           110,
           164,
           157,
           170,
           124,
           145,
           113,
           150,
           100,
           178,
           139,
           150,
           101,
           157,
           187,
           137,
           121,
           132,
           130,
           156,
           180,
           100,
           122,
           185,
           113,
           123,
           119,
           113,
           168,
           126,
           102,
           116,
           144,
           140,
           124,
           108,
           154,
           185,
           106,
           97,
           96,
           129,
           124,
           149,
           97,
           102,
           146,
           199,
           100,
           118,
           179,
           179,
           113,
           142,
           101,
           174,
           131,
           179,
           122,
           105,
           176,
           103,
           120,
           118,
           143,
           134,
           203,
           116,
           150,
           192,
           187,
           107,
           192,
           97,
           157,
           128,
           183,
           112,
           173,
           156,
           137,
           156,
           112,
           203,
           141,
           97,
           186,
           113,
           195,
           175,
           154,
           173,
           141,
           152,
           114,
           181,
           111,
           200,
           100,
           134,
           167,
           198,
           151,
           121,
           196,
           171,
           135,
           186,
           138,
           133,
           107,
           120,
           168,
           184,
           154,
           115,
           168,
           161,
           171,
           129,
           150,
           118,
           154,
           103,
           180,
           141,
           152,
           104,
           159,
           191,
           142,
           123,
           135,
           132,
           158,
           181,
           105,
           126,
           186,
           116,
           124,
           122,
           115,
           173,
           128,
           103,
           120,
           146,
           145,
           125,
           109,
           156,
           187,
           110,
           100,
           97,
           133,
           128,
           154,
           100,
           104,
           149,
           203,
           104,
           119,
           181,
           180,
           116,
           144,
           102,
           176,
           135,
           184,
           124,
           110,
           180,
           103,
           117,
           120,
           145,
           133,
           201,
           117,
           146,
           195,
           188,
           108,
           191,
           100,
           158,
           127,
           181,
           113,
           171,
           153,
           137,
           154,
           112,
           201,
           141,
           100,
           185,
           111,
           191,
           176,
           150,
           171,
           140,
           153,
           111,
           180,
           107,
           197,
           101,
           132,
           168,
           200,
           150,
           119,
           197,
           172,
           134,
           185,
           135,
           132,
           109,
           116,
           170,
           187,
           154,
           111,
           169,
           161,
           174,
           125,
           148,
           117,
           154,
           104,
           183,
           142,
           155,
           105,
           160,
           191,
           140,
           123,
           136,
           132,
           158,
           182,
           104,
           126,
           188,
           118,
           127,
           123,
           118,
           169,
           128,
           106,
           119,
           147,
           141,
           125,
           109,
           158,
           190,
           110,
           99,
           98,
           134,
           129,
           154,
           100,
           107,
           149,
           203,
           101,
           119,
           182,
           181,
           115,
           145,
           102,
           176,
           134,
           183,
           123,
           108,
           177,
           104,
           117,
           117,
           145,
           134,
           199,
           115,
           149,
           192,
           188,
           107,
           190,
           98,
           158,
           128,
           180,
           110,
           172,
           157,
           137,
           158,
           110,
           203,
           145,
           96,
           186,
           110,
           194,
           177,
           152,
           172,
           140,
           154,
           113,
           179,
           111,
           196,
           101,
           131,
           171,
           199,
           151,
           121,
           196,
           174,
           135,
           184,
           137,
           129,
           108,
           116,
           168,
           184,
           151,
           114,
           167,
           160,
           175,
           127,
           146,
           118,
           151,
           105,
           180,
           140,
           155,
           106,
           160,
           192,
           138,
           122,
           135,
           132,
           158,
           184,
           101,
           126,
           188,
           118,
           127,
           123,
           117,
           172,
           127,
           104,
           121,
           148,
           141,
           128,
           113,
           155,
           189,
           108,
           98,
           100,
           134,
           125,
           151,
           100,
           107,
           147,
           200,
           101,
           120,
           181,
           182,
           117,
           145,
           106,
           179,
           134,
           180,
           126,
           110,
           180,
           103,
           116,
           119,
           144,
           133,
           199,
           115,
           150,
           192,
           188,
           109,
           189,
           101,
           159,
           128,
           182,
           111,
           171,
           154,
           134,
           157,
           112,
           203,
           142,
           97,
           187,
           111,
           194,
           176,
           153,
           171,
           142,
           153,
           113,
           183,
           108,
           200,
           99,
           131,
           171,
           200,
           152,
           119,
           196,
           173,
           132,
           185,
           138,
           132,
           110,
           119,
           167,
           188,
           151,
           112,
           166,
           158,
           172,
           127,
           150,
           115,
           151,
           103,
           181,
           141,
           152,
           105,
           162,
           190,
           141,
           122,
           136,
           131,
           157,
           181,
           103,
           127,
           189,
           114,
           125,
           123,
           116,
           172,
           129,
           107,
           117,
           148
          ],
          "sizemode": "area",
          "sizeref": 0.5075,
          "symbol": "circle"
         },
         "mode": "markers",
         "name": "",
         "orientation": "v",
         "showlegend": false,
         "type": "scatter",
         "x": [
          102,
          115,
          115,
          140,
          130,
          198,
          114,
          145,
          191,
          186,
          104,
          188,
          96,
          156,
          125,
          178,
          109,
          168,
          152,
          133,
          153,
          107,
          199,
          140,
          95,
          183,
          108,
          190,
          174,
          149,
          169,
          138,
          151,
          109,
          178,
          106,
          195,
          96,
          129,
          166,
          197,
          148,
          117,
          193,
          170,
          130,
          183,
          134,
          128,
          105,
          115,
          166,
          183,
          149,
          110,
          164,
          157,
          170,
          124,
          145,
          113,
          150,
          100,
          178,
          139,
          150,
          101,
          157,
          187,
          137,
          121,
          132,
          130,
          156,
          180,
          100,
          122,
          185,
          113,
          123,
          119,
          113,
          168,
          126,
          102,
          116,
          144,
          140,
          124,
          108,
          154,
          185,
          106,
          97,
          96,
          129,
          124,
          149,
          97,
          102,
          146,
          199,
          100,
          118,
          179,
          179,
          113,
          142,
          101,
          174,
          131,
          179,
          122,
          105,
          176,
          103,
          120,
          118,
          143,
          134,
          203,
          116,
          150,
          192,
          187,
          107,
          192,
          97,
          157,
          128,
          183,
          112,
          173,
          156,
          137,
          156,
          112,
          203,
          141,
          97,
          186,
          113,
          195,
          175,
          154,
          173,
          141,
          152,
          114,
          181,
          111,
          200,
          100,
          134,
          167,
          198,
          151,
          121,
          196,
          171,
          135,
          186,
          138,
          133,
          107,
          120,
          168,
          184,
          154,
          115,
          168,
          161,
          171,
          129,
          150,
          118,
          154,
          103,
          180,
          141,
          152,
          104,
          159,
          191,
          142,
          123,
          135,
          132,
          158,
          181,
          105,
          126,
          186,
          116,
          124,
          122,
          115,
          173,
          128,
          103,
          120,
          146,
          145,
          125,
          109,
          156,
          187,
          110,
          100,
          97,
          133,
          128,
          154,
          100,
          104,
          149,
          203,
          104,
          119,
          181,
          180,
          116,
          144,
          102,
          176,
          135,
          184,
          124,
          110,
          180,
          103,
          117,
          120,
          145,
          133,
          201,
          117,
          146,
          195,
          188,
          108,
          191,
          100,
          158,
          127,
          181,
          113,
          171,
          153,
          137,
          154,
          112,
          201,
          141,
          100,
          185,
          111,
          191,
          176,
          150,
          171,
          140,
          153,
          111,
          180,
          107,
          197,
          101,
          132,
          168,
          200,
          150,
          119,
          197,
          172,
          134,
          185,
          135,
          132,
          109,
          116,
          170,
          187,
          154,
          111,
          169,
          161,
          174,
          125,
          148,
          117,
          154,
          104,
          183,
          142,
          155,
          105,
          160,
          191,
          140,
          123,
          136,
          132,
          158,
          182,
          104,
          126,
          188,
          118,
          127,
          123,
          118,
          169,
          128,
          106,
          119,
          147,
          141,
          125,
          109,
          158,
          190,
          110,
          99,
          98,
          134,
          129,
          154,
          100,
          107,
          149,
          203,
          101,
          119,
          182,
          181,
          115,
          145,
          102,
          176,
          134,
          183,
          123,
          108,
          177,
          104,
          117,
          117,
          145,
          134,
          199,
          115,
          149,
          192,
          188,
          107,
          190,
          98,
          158,
          128,
          180,
          110,
          172,
          157,
          137,
          158,
          110,
          203,
          145,
          96,
          186,
          110,
          194,
          177,
          152,
          172,
          140,
          154,
          113,
          179,
          111,
          196,
          101,
          131,
          171,
          199,
          151,
          121,
          196,
          174,
          135,
          184,
          137,
          129,
          108,
          116,
          168,
          184,
          151,
          114,
          167,
          160,
          175,
          127,
          146,
          118,
          151,
          105,
          180,
          140,
          155,
          106,
          160,
          192,
          138,
          122,
          135,
          132,
          158,
          184,
          101,
          126,
          188,
          118,
          127,
          123,
          117,
          172,
          127,
          104,
          121,
          148,
          141,
          128,
          113,
          155,
          189,
          108,
          98,
          100,
          134,
          125,
          151,
          100,
          107,
          147,
          200,
          101,
          120,
          181,
          182,
          117,
          145,
          106,
          179,
          134,
          180,
          126,
          110,
          180,
          103,
          116,
          119,
          144,
          133,
          199,
          115,
          150,
          192,
          188,
          109,
          189,
          101,
          159,
          128,
          182,
          111,
          171,
          154,
          134,
          157,
          112,
          203,
          142,
          97,
          187,
          111,
          194,
          176,
          153,
          171,
          142,
          153,
          113,
          183,
          108,
          200,
          99,
          131,
          171,
          200,
          152,
          119,
          196,
          173,
          132,
          185,
          138,
          132,
          110,
          119,
          167,
          188,
          151,
          112,
          166,
          158,
          172,
          127,
          150,
          115,
          151,
          103,
          181,
          141,
          152,
          105,
          162,
          190,
          141,
          122,
          136,
          131,
          157,
          181,
          103,
          127,
          189,
          114,
          125,
          123,
          116,
          172,
          129,
          107,
          117,
          148
         ],
         "xaxis": "x",
         "y": [
          111,
          135,
          136,
          167,
          158,
          227,
          131,
          176,
          223,
          221,
          116,
          222,
          102,
          192,
          152,
          213,
          125,
          204,
          189,
          163,
          189,
          122,
          228,
          168,
          102,
          218,
          123,
          222,
          208,
          183,
          204,
          167,
          188,
          126,
          213,
          122,
          225,
          105,
          155,
          203,
          225,
          177,
          139,
          224,
          207,
          158,
          218,
          164,
          154,
          118,
          138,
          199,
          219,
          183,
          128,
          197,
          196,
          208,
          152,
          175,
          129,
          185,
          107,
          211,
          167,
          185,
          110,
          194,
          221,
          166,
          143,
          163,
          158,
          191,
          216,
          106,
          146,
          220,
          131,
          147,
          141,
          130,
          204,
          152,
          111,
          139,
          172,
          168,
          148,
          123,
          189,
          220,
          120,
          106,
          105,
          157,
          149,
          185,
          106,
          115,
          177,
          230,
          108,
          140,
          214,
          216,
          130,
          169,
          110,
          209,
          162,
          214,
          145,
          116,
          209,
          116,
          139,
          143,
          168,
          158,
          232,
          136,
          180,
          228,
          222,
          117,
          224,
          104,
          195,
          156,
          213,
          133,
          208,
          195,
          163,
          195,
          124,
          231,
          172,
          104,
          221,
          128,
          222,
          214,
          184,
          204,
          171,
          195,
          132,
          214,
          123,
          233,
          107,
          162,
          204,
          227,
          185,
          142,
          225,
          212,
          161,
          220,
          168,
          155,
          125,
          144,
          201,
          222,
          189,
          132,
          204,
          201,
          211,
          156,
          179,
          129,
          185,
          107,
          213,
          172,
          193,
          114,
          202,
          222,
          168,
          146,
          170,
          165,
          196,
          224,
          108,
          149,
          224,
          136,
          152,
          143,
          135,
          211,
          156,
          115,
          143,
          179,
          173,
          148,
          127,
          194,
          225,
          127,
          106,
          112,
          164,
          151,
          191,
          110,
          116,
          180,
          235,
          108,
          141,
          219,
          219,
          138,
          169,
          116,
          212,
          162,
          220,
          151,
          119,
          212,
          111,
          142,
          138,
          172,
          158,
          228,
          134,
          181,
          231,
          223,
          121,
          222,
          102,
          195,
          156,
          214,
          132,
          204,
          190,
          167,
          195,
          127,
          235,
          171,
          110,
          221,
          128,
          226,
          208,
          191,
          205,
          173,
          191,
          128,
          220,
          126,
          232,
          108,
          159,
          211,
          232,
          182,
          145,
          224,
          209,
          160,
          219,
          170,
          161,
          122,
          141,
          204,
          226,
          187,
          129,
          199,
          199,
          214,
          159,
          176,
          129,
          187,
          109,
          212,
          170,
          191,
          116,
          202,
          226,
          166,
          151,
          170,
          166,
          193,
          218,
          109,
          152,
          220,
          133,
          152,
          142,
          131,
          204,
          153,
          114,
          144,
          172,
          176,
          150,
          129,
          190,
          226,
          128,
          106,
          107,
          159,
          157,
          192,
          110,
          115,
          183,
          233,
          112,
          146,
          222,
          216,
          134,
          174,
          114,
          211,
          167,
          214,
          145,
          120,
          217,
          113,
          141,
          140,
          171,
          163,
          232,
          131,
          184,
          225,
          223,
          121,
          223,
          105,
          197,
          160,
          218,
          131,
          211,
          194,
          169,
          189,
          128,
          228,
          169,
          108,
          219,
          124,
          224,
          214,
          190,
          205,
          167,
          190,
          128,
          217,
          126,
          228,
          105,
          162,
          211,
          227,
          178,
          146,
          227,
          208,
          163,
          225,
          167,
          162,
          125,
          144,
          199,
          226,
          183,
          136,
          199,
          204,
          215,
          155,
          179,
          133,
          186,
          111,
          219,
          173,
          185,
          118,
          199,
          226,
          169,
          144,
          166,
          166,
          198,
          222,
          110,
          154,
          226,
          135,
          151,
          146,
          133,
          205,
          154,
          116,
          145,
          174,
          168,
          156,
          124,
          196,
          227,
          122,
          106,
          110,
          158,
          154,
          190,
          110,
          120,
          180,
          232,
          110,
          142,
          222,
          218,
          138,
          176,
          115,
          211,
          168,
          216,
          147,
          124,
          215,
          117,
          139,
          138,
          171,
          158,
          232,
          139,
          178,
          224,
          224,
          116,
          223,
          109,
          193,
          155,
          221,
          130,
          212,
          190,
          169,
          191,
          122,
          234,
          175,
          108,
          220,
          126,
          227,
          216,
          188,
          205,
          172,
          192,
          129,
          219,
          127,
          228,
          105,
          159,
          205,
          228,
          178,
          139,
          232,
          212,
          162,
          226,
          171,
          159,
          120,
          143,
          200,
          221,
          184,
          134,
          200,
          201,
          210,
          159,
          178,
          137,
          190,
          110,
          213,
          170,
          193,
          113,
          196,
          222,
          174,
          143,
          169,
          165,
          194,
          217,
          113,
          150,
          223,
          133,
          149,
          149,
          130,
          207,
          157,
          115,
          147,
          176
         ],
         "yaxis": "y"
        }
       ],
       "layout": {
        "coloraxis": {
         "colorbar": {
          "title": {
           "text": "cluster"
          }
         },
         "colorscale": [
          [
           0,
           "#0d0887"
          ],
          [
           0.1111111111111111,
           "#46039f"
          ],
          [
           0.2222222222222222,
           "#7201a8"
          ],
          [
           0.3333333333333333,
           "#9c179e"
          ],
          [
           0.4444444444444444,
           "#bd3786"
          ],
          [
           0.5555555555555556,
           "#d8576b"
          ],
          [
           0.6666666666666666,
           "#ed7953"
          ],
          [
           0.7777777777777778,
           "#fb9f3a"
          ],
          [
           0.8888888888888888,
           "#fdca26"
          ],
          [
           1,
           "#f0f921"
          ]
         ]
        },
        "legend": {
         "itemsizing": "constant",
         "tracegroupgap": 0
        },
        "margin": {
         "t": 60
        },
        "template": {
         "data": {
          "bar": [
           {
            "error_x": {
             "color": "#2a3f5f"
            },
            "error_y": {
             "color": "#2a3f5f"
            },
            "marker": {
             "line": {
              "color": "#E5ECF6",
              "width": 0.5
             },
             "pattern": {
              "fillmode": "overlay",
              "size": 10,
              "solidity": 0.2
             }
            },
            "type": "bar"
           }
          ],
          "barpolar": [
           {
            "marker": {
             "line": {
              "color": "#E5ECF6",
              "width": 0.5
             },
             "pattern": {
              "fillmode": "overlay",
              "size": 10,
              "solidity": 0.2
             }
            },
            "type": "barpolar"
           }
          ],
          "carpet": [
           {
            "aaxis": {
             "endlinecolor": "#2a3f5f",
             "gridcolor": "white",
             "linecolor": "white",
             "minorgridcolor": "white",
             "startlinecolor": "#2a3f5f"
            },
            "baxis": {
             "endlinecolor": "#2a3f5f",
             "gridcolor": "white",
             "linecolor": "white",
             "minorgridcolor": "white",
             "startlinecolor": "#2a3f5f"
            },
            "type": "carpet"
           }
          ],
          "choropleth": [
           {
            "colorbar": {
             "outlinewidth": 0,
             "ticks": ""
            },
            "type": "choropleth"
           }
          ],
          "contour": [
           {
            "colorbar": {
             "outlinewidth": 0,
             "ticks": ""
            },
            "colorscale": [
             [
              0,
              "#0d0887"
             ],
             [
              0.1111111111111111,
              "#46039f"
             ],
             [
              0.2222222222222222,
              "#7201a8"
             ],
             [
              0.3333333333333333,
              "#9c179e"
             ],
             [
              0.4444444444444444,
              "#bd3786"
             ],
             [
              0.5555555555555556,
              "#d8576b"
             ],
             [
              0.6666666666666666,
              "#ed7953"
             ],
             [
              0.7777777777777778,
              "#fb9f3a"
             ],
             [
              0.8888888888888888,
              "#fdca26"
             ],
             [
              1,
              "#f0f921"
             ]
            ],
            "type": "contour"
           }
          ],
          "contourcarpet": [
           {
            "colorbar": {
             "outlinewidth": 0,
             "ticks": ""
            },
            "type": "contourcarpet"
           }
          ],
          "heatmap": [
           {
            "colorbar": {
             "outlinewidth": 0,
             "ticks": ""
            },
            "colorscale": [
             [
              0,
              "#0d0887"
             ],
             [
              0.1111111111111111,
              "#46039f"
             ],
             [
              0.2222222222222222,
              "#7201a8"
             ],
             [
              0.3333333333333333,
              "#9c179e"
             ],
             [
              0.4444444444444444,
              "#bd3786"
             ],
             [
              0.5555555555555556,
              "#d8576b"
             ],
             [
              0.6666666666666666,
              "#ed7953"
             ],
             [
              0.7777777777777778,
              "#fb9f3a"
             ],
             [
              0.8888888888888888,
              "#fdca26"
             ],
             [
              1,
              "#f0f921"
             ]
            ],
            "type": "heatmap"
           }
          ],
          "heatmapgl": [
           {
            "colorbar": {
             "outlinewidth": 0,
             "ticks": ""
            },
            "colorscale": [
             [
              0,
              "#0d0887"
             ],
             [
              0.1111111111111111,
              "#46039f"
             ],
             [
              0.2222222222222222,
              "#7201a8"
             ],
             [
              0.3333333333333333,
              "#9c179e"
             ],
             [
              0.4444444444444444,
              "#bd3786"
             ],
             [
              0.5555555555555556,
              "#d8576b"
             ],
             [
              0.6666666666666666,
              "#ed7953"
             ],
             [
              0.7777777777777778,
              "#fb9f3a"
             ],
             [
              0.8888888888888888,
              "#fdca26"
             ],
             [
              1,
              "#f0f921"
             ]
            ],
            "type": "heatmapgl"
           }
          ],
          "histogram": [
           {
            "marker": {
             "pattern": {
              "fillmode": "overlay",
              "size": 10,
              "solidity": 0.2
             }
            },
            "type": "histogram"
           }
          ],
          "histogram2d": [
           {
            "colorbar": {
             "outlinewidth": 0,
             "ticks": ""
            },
            "colorscale": [
             [
              0,
              "#0d0887"
             ],
             [
              0.1111111111111111,
              "#46039f"
             ],
             [
              0.2222222222222222,
              "#7201a8"
             ],
             [
              0.3333333333333333,
              "#9c179e"
             ],
             [
              0.4444444444444444,
              "#bd3786"
             ],
             [
              0.5555555555555556,
              "#d8576b"
             ],
             [
              0.6666666666666666,
              "#ed7953"
             ],
             [
              0.7777777777777778,
              "#fb9f3a"
             ],
             [
              0.8888888888888888,
              "#fdca26"
             ],
             [
              1,
              "#f0f921"
             ]
            ],
            "type": "histogram2d"
           }
          ],
          "histogram2dcontour": [
           {
            "colorbar": {
             "outlinewidth": 0,
             "ticks": ""
            },
            "colorscale": [
             [
              0,
              "#0d0887"
             ],
             [
              0.1111111111111111,
              "#46039f"
             ],
             [
              0.2222222222222222,
              "#7201a8"
             ],
             [
              0.3333333333333333,
              "#9c179e"
             ],
             [
              0.4444444444444444,
              "#bd3786"
             ],
             [
              0.5555555555555556,
              "#d8576b"
             ],
             [
              0.6666666666666666,
              "#ed7953"
             ],
             [
              0.7777777777777778,
              "#fb9f3a"
             ],
             [
              0.8888888888888888,
              "#fdca26"
             ],
             [
              1,
              "#f0f921"
             ]
            ],
            "type": "histogram2dcontour"
           }
          ],
          "mesh3d": [
           {
            "colorbar": {
             "outlinewidth": 0,
             "ticks": ""
            },
            "type": "mesh3d"
           }
          ],
          "parcoords": [
           {
            "line": {
             "colorbar": {
              "outlinewidth": 0,
              "ticks": ""
             }
            },
            "type": "parcoords"
           }
          ],
          "pie": [
           {
            "automargin": true,
            "type": "pie"
           }
          ],
          "scatter": [
           {
            "fillpattern": {
             "fillmode": "overlay",
             "size": 10,
             "solidity": 0.2
            },
            "type": "scatter"
           }
          ],
          "scatter3d": [
           {
            "line": {
             "colorbar": {
              "outlinewidth": 0,
              "ticks": ""
             }
            },
            "marker": {
             "colorbar": {
              "outlinewidth": 0,
              "ticks": ""
             }
            },
            "type": "scatter3d"
           }
          ],
          "scattercarpet": [
           {
            "marker": {
             "colorbar": {
              "outlinewidth": 0,
              "ticks": ""
             }
            },
            "type": "scattercarpet"
           }
          ],
          "scattergeo": [
           {
            "marker": {
             "colorbar": {
              "outlinewidth": 0,
              "ticks": ""
             }
            },
            "type": "scattergeo"
           }
          ],
          "scattergl": [
           {
            "marker": {
             "colorbar": {
              "outlinewidth": 0,
              "ticks": ""
             }
            },
            "type": "scattergl"
           }
          ],
          "scattermapbox": [
           {
            "marker": {
             "colorbar": {
              "outlinewidth": 0,
              "ticks": ""
             }
            },
            "type": "scattermapbox"
           }
          ],
          "scatterpolar": [
           {
            "marker": {
             "colorbar": {
              "outlinewidth": 0,
              "ticks": ""
             }
            },
            "type": "scatterpolar"
           }
          ],
          "scatterpolargl": [
           {
            "marker": {
             "colorbar": {
              "outlinewidth": 0,
              "ticks": ""
             }
            },
            "type": "scatterpolargl"
           }
          ],
          "scatterternary": [
           {
            "marker": {
             "colorbar": {
              "outlinewidth": 0,
              "ticks": ""
             }
            },
            "type": "scatterternary"
           }
          ],
          "surface": [
           {
            "colorbar": {
             "outlinewidth": 0,
             "ticks": ""
            },
            "colorscale": [
             [
              0,
              "#0d0887"
             ],
             [
              0.1111111111111111,
              "#46039f"
             ],
             [
              0.2222222222222222,
              "#7201a8"
             ],
             [
              0.3333333333333333,
              "#9c179e"
             ],
             [
              0.4444444444444444,
              "#bd3786"
             ],
             [
              0.5555555555555556,
              "#d8576b"
             ],
             [
              0.6666666666666666,
              "#ed7953"
             ],
             [
              0.7777777777777778,
              "#fb9f3a"
             ],
             [
              0.8888888888888888,
              "#fdca26"
             ],
             [
              1,
              "#f0f921"
             ]
            ],
            "type": "surface"
           }
          ],
          "table": [
           {
            "cells": {
             "fill": {
              "color": "#EBF0F8"
             },
             "line": {
              "color": "white"
             }
            },
            "header": {
             "fill": {
              "color": "#C8D4E3"
             },
             "line": {
              "color": "white"
             }
            },
            "type": "table"
           }
          ]
         },
         "layout": {
          "annotationdefaults": {
           "arrowcolor": "#2a3f5f",
           "arrowhead": 0,
           "arrowwidth": 1
          },
          "autotypenumbers": "strict",
          "coloraxis": {
           "colorbar": {
            "outlinewidth": 0,
            "ticks": ""
           }
          },
          "colorscale": {
           "diverging": [
            [
             0,
             "#8e0152"
            ],
            [
             0.1,
             "#c51b7d"
            ],
            [
             0.2,
             "#de77ae"
            ],
            [
             0.3,
             "#f1b6da"
            ],
            [
             0.4,
             "#fde0ef"
            ],
            [
             0.5,
             "#f7f7f7"
            ],
            [
             0.6,
             "#e6f5d0"
            ],
            [
             0.7,
             "#b8e186"
            ],
            [
             0.8,
             "#7fbc41"
            ],
            [
             0.9,
             "#4d9221"
            ],
            [
             1,
             "#276419"
            ]
           ],
           "sequential": [
            [
             0,
             "#0d0887"
            ],
            [
             0.1111111111111111,
             "#46039f"
            ],
            [
             0.2222222222222222,
             "#7201a8"
            ],
            [
             0.3333333333333333,
             "#9c179e"
            ],
            [
             0.4444444444444444,
             "#bd3786"
            ],
            [
             0.5555555555555556,
             "#d8576b"
            ],
            [
             0.6666666666666666,
             "#ed7953"
            ],
            [
             0.7777777777777778,
             "#fb9f3a"
            ],
            [
             0.8888888888888888,
             "#fdca26"
            ],
            [
             1,
             "#f0f921"
            ]
           ],
           "sequentialminus": [
            [
             0,
             "#0d0887"
            ],
            [
             0.1111111111111111,
             "#46039f"
            ],
            [
             0.2222222222222222,
             "#7201a8"
            ],
            [
             0.3333333333333333,
             "#9c179e"
            ],
            [
             0.4444444444444444,
             "#bd3786"
            ],
            [
             0.5555555555555556,
             "#d8576b"
            ],
            [
             0.6666666666666666,
             "#ed7953"
            ],
            [
             0.7777777777777778,
             "#fb9f3a"
            ],
            [
             0.8888888888888888,
             "#fdca26"
            ],
            [
             1,
             "#f0f921"
            ]
           ]
          },
          "colorway": [
           "#636efa",
           "#EF553B",
           "#00cc96",
           "#ab63fa",
           "#FFA15A",
           "#19d3f3",
           "#FF6692",
           "#B6E880",
           "#FF97FF",
           "#FECB52"
          ],
          "font": {
           "color": "#2a3f5f"
          },
          "geo": {
           "bgcolor": "white",
           "lakecolor": "white",
           "landcolor": "#E5ECF6",
           "showlakes": true,
           "showland": true,
           "subunitcolor": "white"
          },
          "hoverlabel": {
           "align": "left"
          },
          "hovermode": "closest",
          "mapbox": {
           "style": "light"
          },
          "paper_bgcolor": "white",
          "plot_bgcolor": "#E5ECF6",
          "polar": {
           "angularaxis": {
            "gridcolor": "white",
            "linecolor": "white",
            "ticks": ""
           },
           "bgcolor": "#E5ECF6",
           "radialaxis": {
            "gridcolor": "white",
            "linecolor": "white",
            "ticks": ""
           }
          },
          "scene": {
           "xaxis": {
            "backgroundcolor": "#E5ECF6",
            "gridcolor": "white",
            "gridwidth": 2,
            "linecolor": "white",
            "showbackground": true,
            "ticks": "",
            "zerolinecolor": "white"
           },
           "yaxis": {
            "backgroundcolor": "#E5ECF6",
            "gridcolor": "white",
            "gridwidth": 2,
            "linecolor": "white",
            "showbackground": true,
            "ticks": "",
            "zerolinecolor": "white"
           },
           "zaxis": {
            "backgroundcolor": "#E5ECF6",
            "gridcolor": "white",
            "gridwidth": 2,
            "linecolor": "white",
            "showbackground": true,
            "ticks": "",
            "zerolinecolor": "white"
           }
          },
          "shapedefaults": {
           "line": {
            "color": "#2a3f5f"
           }
          },
          "ternary": {
           "aaxis": {
            "gridcolor": "white",
            "linecolor": "white",
            "ticks": ""
           },
           "baxis": {
            "gridcolor": "white",
            "linecolor": "white",
            "ticks": ""
           },
           "bgcolor": "#E5ECF6",
           "caxis": {
            "gridcolor": "white",
            "linecolor": "white",
            "ticks": ""
           }
          },
          "title": {
           "x": 0.05
          },
          "xaxis": {
           "automargin": true,
           "gridcolor": "white",
           "linecolor": "white",
           "ticks": "",
           "title": {
            "standoff": 15
           },
           "zerolinecolor": "white",
           "zerolinewidth": 2
          },
          "yaxis": {
           "automargin": true,
           "gridcolor": "white",
           "linecolor": "white",
           "ticks": "",
           "title": {
            "standoff": 15
           },
           "zerolinecolor": "white",
           "zerolinewidth": 2
          }
         }
        },
        "xaxis": {
         "anchor": "y",
         "domain": [
          0,
          1
         ],
         "title": {
          "text": "Weight"
         }
        },
        "yaxis": {
         "anchor": "x",
         "domain": [
          0,
          1
         ],
         "title": {
          "text": "Cholesterol"
         }
        }
       }
      }
     },
     "metadata": {},
     "output_type": "display_data"
    }
   ],
   "source": [
    "\n",
    "# fig = px.scatter(data, x='Weight', y='Cholesterol', color='cluster', size='Weight', hover_data=['Cholesterol'])\n",
    "# fig.show()\n",
    "\n",
    "data['Cluster_Label'] = data['cluster'].map({0: \"medium risk\", 1: \"high risk\", 2: \"low risk\", 3: \"potentially high risk\"})\n",
    "\n",
    "fig = px.scatter(data, x=\"Weight\", y=\"Cholesterol\", color=\"cluster\", size=\"Weight\", hover_data=[\"Cluster_Label\"])\n",
    "fig.update_traces(text=data['Cluster_Label'], selector=dict(mode='markers+text'))\n",
    "\n",
    "fig.show()\n"
   ]
  },
  {
   "cell_type": "markdown",
   "metadata": {},
   "source": [
    "## hasil cluster \n",
    "didapatkan 4 kelompok orang yang beresiko jantung koroner, berikut ini kelompok cluster berdasar kan resiko \n",
    "\n",
    "1. Cluster 1 : cluster High Risk,memiliki resiko tinggi jantung koroner.\n",
    "2. Cluster 3 : Cluster Berpotensi tinggi, memiliki potensi yang tinggi untuk memiliki jantung koroner. hal ini di tunjukan cholesterol dan weight berada pada ambang batas normal.\n",
    "3. Cluster 0 : Cluster medium risk/moderate, memiliki resiko rendah jantung koroner.\n",
    "4. Cluster 2 : Cluster Low Risk, memiliki resiko rendah jantung koroner\n",
    "\n",
    "\n",
    "\n",
    "Berapakah Jumlah Nasabah yang akan di prospek untuk mengikuti program baru \"Treatment mengurangi resiko jantung koroner\"? "
   ]
  },
  {
   "cell_type": "code",
   "execution_count": null,
   "metadata": {},
   "outputs": [],
   "source": []
  }
 ],
 "metadata": {
  "kernelspec": {
   "display_name": "Python 3",
   "language": "python",
   "name": "python3"
  },
  "language_info": {
   "codemirror_mode": {
    "name": "ipython",
    "version": 3
   },
   "file_extension": ".py",
   "mimetype": "text/x-python",
   "name": "python",
   "nbconvert_exporter": "python",
   "pygments_lexer": "ipython3",
   "version": "3.9.6"
  }
 },
 "nbformat": 4,
 "nbformat_minor": 2
}
