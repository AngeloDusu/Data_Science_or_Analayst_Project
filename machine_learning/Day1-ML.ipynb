{
 "cells": [
  {
   "cell_type": "code",
   "execution_count": 1,
   "id": "initial_id",
   "metadata": {
    "ExecuteTime": {
     "end_time": "2023-10-11T02:14:02.859781Z",
     "start_time": "2023-10-11T02:14:02.849787Z"
    },
    "collapsed": true
   },
   "outputs": [],
   "source": [
    "import numpy as np\n",
    "import pandas as pd\n",
    "import seaborn as sns\n",
    "import matplotlib.pyplot as plt\n"
   ]
  },
  {
   "cell_type": "code",
   "execution_count": 2,
   "id": "6884026633316e0c",
   "metadata": {
    "ExecuteTime": {
     "end_time": "2023-10-11T02:14:02.955916700Z",
     "start_time": "2023-10-11T02:14:02.856782100Z"
    },
    "collapsed": false
   },
   "outputs": [
    {
     "data": {
      "text/html": [
       "<div>\n",
       "<style scoped>\n",
       "    .dataframe tbody tr th:only-of-type {\n",
       "        vertical-align: middle;\n",
       "    }\n",
       "\n",
       "    .dataframe tbody tr th {\n",
       "        vertical-align: top;\n",
       "    }\n",
       "\n",
       "    .dataframe thead th {\n",
       "        text-align: right;\n",
       "    }\n",
       "</style>\n",
       "<table border=\"1\" class=\"dataframe\">\n",
       "  <thead>\n",
       "    <tr style=\"text-align: right;\">\n",
       "      <th></th>\n",
       "      <th>Insulation</th>\n",
       "      <th>Temperature</th>\n",
       "      <th>Heating_Oil</th>\n",
       "      <th>Num_Occupants</th>\n",
       "      <th>Avg_Age</th>\n",
       "      <th>Home_Size</th>\n",
       "    </tr>\n",
       "  </thead>\n",
       "  <tbody>\n",
       "    <tr>\n",
       "      <th>0</th>\n",
       "      <td>6</td>\n",
       "      <td>74</td>\n",
       "      <td>132</td>\n",
       "      <td>4</td>\n",
       "      <td>23.8</td>\n",
       "      <td>4</td>\n",
       "    </tr>\n",
       "    <tr>\n",
       "      <th>1</th>\n",
       "      <td>10</td>\n",
       "      <td>43</td>\n",
       "      <td>263</td>\n",
       "      <td>4</td>\n",
       "      <td>56.7</td>\n",
       "      <td>4</td>\n",
       "    </tr>\n",
       "    <tr>\n",
       "      <th>2</th>\n",
       "      <td>3</td>\n",
       "      <td>81</td>\n",
       "      <td>145</td>\n",
       "      <td>2</td>\n",
       "      <td>28.0</td>\n",
       "      <td>6</td>\n",
       "    </tr>\n",
       "    <tr>\n",
       "      <th>3</th>\n",
       "      <td>9</td>\n",
       "      <td>50</td>\n",
       "      <td>196</td>\n",
       "      <td>4</td>\n",
       "      <td>45.1</td>\n",
       "      <td>3</td>\n",
       "    </tr>\n",
       "    <tr>\n",
       "      <th>4</th>\n",
       "      <td>2</td>\n",
       "      <td>80</td>\n",
       "      <td>131</td>\n",
       "      <td>5</td>\n",
       "      <td>20.8</td>\n",
       "      <td>2</td>\n",
       "    </tr>\n",
       "    <tr>\n",
       "      <th>...</th>\n",
       "      <td>...</td>\n",
       "      <td>...</td>\n",
       "      <td>...</td>\n",
       "      <td>...</td>\n",
       "      <td>...</td>\n",
       "      <td>...</td>\n",
       "    </tr>\n",
       "    <tr>\n",
       "      <th>1213</th>\n",
       "      <td>7</td>\n",
       "      <td>56</td>\n",
       "      <td>264</td>\n",
       "      <td>5</td>\n",
       "      <td>58.2</td>\n",
       "      <td>5</td>\n",
       "    </tr>\n",
       "    <tr>\n",
       "      <th>1214</th>\n",
       "      <td>5</td>\n",
       "      <td>78</td>\n",
       "      <td>129</td>\n",
       "      <td>1</td>\n",
       "      <td>22.5</td>\n",
       "      <td>1</td>\n",
       "    </tr>\n",
       "    <tr>\n",
       "      <th>1215</th>\n",
       "      <td>5</td>\n",
       "      <td>77</td>\n",
       "      <td>138</td>\n",
       "      <td>3</td>\n",
       "      <td>26.8</td>\n",
       "      <td>1</td>\n",
       "    </tr>\n",
       "    <tr>\n",
       "      <th>1216</th>\n",
       "      <td>3</td>\n",
       "      <td>89</td>\n",
       "      <td>156</td>\n",
       "      <td>2</td>\n",
       "      <td>34.0</td>\n",
       "      <td>2</td>\n",
       "    </tr>\n",
       "    <tr>\n",
       "      <th>1217</th>\n",
       "      <td>7</td>\n",
       "      <td>59</td>\n",
       "      <td>273</td>\n",
       "      <td>1</td>\n",
       "      <td>61.4</td>\n",
       "      <td>5</td>\n",
       "    </tr>\n",
       "  </tbody>\n",
       "</table>\n",
       "<p>1218 rows × 6 columns</p>\n",
       "</div>"
      ],
      "text/plain": [
       "      Insulation  Temperature  Heating_Oil  Num_Occupants  Avg_Age  Home_Size\n",
       "0              6           74          132              4     23.8          4\n",
       "1             10           43          263              4     56.7          4\n",
       "2              3           81          145              2     28.0          6\n",
       "3              9           50          196              4     45.1          3\n",
       "4              2           80          131              5     20.8          2\n",
       "...          ...          ...          ...            ...      ...        ...\n",
       "1213           7           56          264              5     58.2          5\n",
       "1214           5           78          129              1     22.5          1\n",
       "1215           5           77          138              3     26.8          1\n",
       "1216           3           89          156              2     34.0          2\n",
       "1217           7           59          273              1     61.4          5\n",
       "\n",
       "[1218 rows x 6 columns]"
      ]
     },
     "execution_count": 2,
     "metadata": {},
     "output_type": "execute_result"
    }
   ],
   "source": [
    "data = pd.read_csv('heatingOilTrainingset.csv')\n",
    "data"
   ]
  },
  {
   "cell_type": "markdown",
   "id": "e2272c682ebbeeea",
   "metadata": {
    "collapsed": false
   },
   "source": [
    "# Business Understanding \n",
    "melvi aprilia, the regional sales manager she is back for more help. business is booming, hher sales team is signing up thousands of new clients, and shewants to be sure the company will be able to meet this new level of demand. she was so pleased with our assistance in finding correlations in her data, she now is hoping we can help her do some prediction as well. she knows that there is some correlation between the attributes in her datasets ( like temperature, insulation and occupant ages), and she's now wondering if she can use the dataset to predict heating oil usage for new customers. You, see these new customers haven't begun consuming heating oil yet, there are a lot of them (42,650 to be exact), and she wants to know how much oil she needs to expect to keep in stock in order to meet these new customer's demands, can she use data mining to examine household attributes and known past consumptions quantities to anticipate and meet her new customers needs?\n",
    "Problem = Estimasi\n",
    "Judul Skripsi = penerapan machine learning untuk mengamankan stok level heating oil dengan pendekatan analisa prediktif\n",
    "Jeniss ML = supervised\n",
    "\n",
    "Data training = valid historikal penjualan heating oil dengan merekap form pelanggan meliputi insulation, temperature, heating_oil,num_Occupants, avg_age dan home_size\n",
    "kemungkinan algoritma yang akan digunakan:\n",
    "1. Regresi linear\n",
    "2. MLP Regressor (Artificial Neural Network)\n",
    "\n"
   ]
  },
  {
   "cell_type": "markdown",
   "id": "c64f9143a40e488f",
   "metadata": {
    "collapsed": false
   },
   "source": [
    "# Data Understanding\n",
    "As a review, our data set from Chapter 4 contains the following attributes:\n",
    "Insulation: This is a density rating, ranging from one to ten, indicating the thickness of each home’s insulation. A home with a density rating of one is poorly insulated, while a home with a density of ten has excellent insulation.\n",
    "-  Temperature: This is the average outdoor ambient temperature at each home for the most recent year, measure in degree Fahrenheit.\n",
    "- Heating_Oil: This is the total number of units of heating oil purchased by the owner of each home in the most recent year.\n",
    "- Num_Occupants: This is the total number of occupants living in each home.\n",
    "- Avg_Age: This is the average age of those occupants.\n",
    "- Home_Size: This is a rating, on a scale of one to eight, of the home’s overall size. The higher the number, the larger the home"
   ]
  },
  {
   "cell_type": "code",
   "execution_count": 3,
   "id": "ca136076d596b932",
   "metadata": {
    "ExecuteTime": {
     "end_time": "2023-10-11T02:14:02.960917200Z",
     "start_time": "2023-10-11T02:14:02.904356300Z"
    },
    "collapsed": false
   },
   "outputs": [
    {
     "name": "stdout",
     "output_type": "stream",
     "text": [
      "<class 'pandas.core.frame.DataFrame'>\n",
      "RangeIndex: 1218 entries, 0 to 1217\n",
      "Data columns (total 6 columns):\n",
      " #   Column         Non-Null Count  Dtype  \n",
      "---  ------         --------------  -----  \n",
      " 0   Insulation     1218 non-null   int64  \n",
      " 1   Temperature    1218 non-null   int64  \n",
      " 2   Heating_Oil    1218 non-null   int64  \n",
      " 3   Num_Occupants  1218 non-null   int64  \n",
      " 4   Avg_Age        1218 non-null   float64\n",
      " 5   Home_Size      1218 non-null   int64  \n",
      "dtypes: float64(1), int64(5)\n",
      "memory usage: 57.2 KB\n"
     ]
    }
   ],
   "source": [
    "data.info()"
   ]
  },
  {
   "cell_type": "markdown",
   "id": "4a6d762104302b92",
   "metadata": {
    "collapsed": false
   },
   "source": [
    "# Syarat dari penyelesaian problem estimasi: tidak ada variabel data kategorik\n",
    "\n",
    "tidak perlu melaakukan konversi data, disebabkan semua variabel numerik\n",
    "tidak perlu mengisi missing values karena tidak ada values yang missing"
   ]
  },
  {
   "cell_type": "code",
   "execution_count": 4,
   "id": "976fff2bb9030f2d",
   "metadata": {
    "ExecuteTime": {
     "end_time": "2023-10-11T02:14:02.967919400Z",
     "start_time": "2023-10-11T02:14:02.935933100Z"
    },
    "collapsed": false
   },
   "outputs": [
    {
     "data": {
      "text/plain": [
       "Insulation       0\n",
       "Temperature      0\n",
       "Heating_Oil      0\n",
       "Num_Occupants    0\n",
       "Avg_Age          0\n",
       "Home_Size        0\n",
       "dtype: int64"
      ]
     },
     "execution_count": 4,
     "metadata": {},
     "output_type": "execute_result"
    }
   ],
   "source": [
    "data.isna().sum()"
   ]
  },
  {
   "cell_type": "markdown",
   "id": "3ad63f8efa0cad30",
   "metadata": {
    "collapsed": false
   },
   "source": [
    "## Permodelan data"
   ]
  },
  {
   "cell_type": "markdown",
   "id": "dd4bb6fb4176246b",
   "metadata": {
    "collapsed": false
   },
   "source": [
    "# Linear Regression"
   ]
  },
  {
   "cell_type": "code",
   "execution_count": 5,
   "id": "af2c118044a4121b",
   "metadata": {
    "ExecuteTime": {
     "end_time": "2023-10-11T02:14:03.534805900Z",
     "start_time": "2023-10-11T02:14:02.947916900Z"
    },
    "collapsed": false
   },
   "outputs": [
    {
     "data": {
      "text/plain": [
       "<Axes: title={'center': 'analisis Pearson Correlation'}>"
      ]
     },
     "execution_count": 5,
     "metadata": {},
     "output_type": "execute_result"
    },
    {
     "data": {
      "image/png": "[encoded data removed]",
      "text/plain": [
       "<Figure size 800x800 with 2 Axes>"
      ]
     },
     "metadata": {},
     "output_type": "display_data"
    }
   ],
   "source": [
    "fig, ax = plt.subplots(figsize= (8,8))\n",
    "plt.title(\"analisis Pearson Correlation\")\n",
    "sns.heatmap(data.astype(float).corr(), linewidths=0.25, vmax=1.0, square=True, cmap='crest', linecolor='black', annot=True)"
   ]
  },
  {
   "cell_type": "code",
   "execution_count": 6,
   "id": "44f8eb178314c100",
   "metadata": {
    "ExecuteTime": {
     "end_time": "2023-10-11T02:14:03.536805300Z",
     "start_time": "2023-10-11T02:14:03.403780500Z"
    },
    "collapsed": false
   },
   "outputs": [],
   "source": [
    "#Input Variabel\n",
    "xinp = data[['Insulation','Temperature','Num_Occupants','Avg_Age','Home_Size']]\n",
    "\n",
    "#Variabel Target\n",
    "yinp = data['Heating_Oil']"
   ]
  },
  {
   "cell_type": "code",
   "execution_count": 7,
   "id": "c018e76a16fa0515",
   "metadata": {
    "ExecuteTime": {
     "end_time": "2023-10-11T02:14:03.864240300Z",
     "start_time": "2023-10-11T02:14:03.412782400Z"
    },
    "collapsed": false
   },
   "outputs": [],
   "source": [
    "from sklearn.model_selection import train_test_split\n",
    "from sklearn.linear_model import LinearRegression\n",
    "from sklearn import metrics"
   ]
  },
  {
   "cell_type": "code",
   "execution_count": 8,
   "id": "39d0f6c9fc8386a1",
   "metadata": {
    "ExecuteTime": {
     "end_time": "2023-10-11T02:14:03.891854700Z",
     "start_time": "2023-10-11T02:14:03.865241600Z"
    },
    "collapsed": false
   },
   "outputs": [],
   "source": [
    "x_train, x_test, y_train, y_test = train_test_split(xinp,yinp, test_size=0.2, random_state= 1000 )"
   ]
  },
  {
   "cell_type": "code",
   "execution_count": 9,
   "id": "230bcd4c9a00951f",
   "metadata": {
    "ExecuteTime": {
     "end_time": "2023-10-11T02:14:03.892852Z",
     "start_time": "2023-10-11T02:14:03.875523200Z"
    },
    "collapsed": false
   },
   "outputs": [],
   "source": [
    "regressor = LinearRegression()\n",
    "# Train Model\n",
    "model_reg = regressor.fit(x_train, y_train)\n",
    "\n",
    "# Memprediksi dengan data test\n",
    "y_pred_reg = model_reg.predict(x_test)"
   ]
  },
  {
   "cell_type": "code",
   "execution_count": 10,
   "id": "501dcacdc3030ec0",
   "metadata": {
    "ExecuteTime": {
     "end_time": "2023-10-11T02:14:03.934904500Z",
     "start_time": "2023-10-11T02:14:03.889852Z"
    },
    "collapsed": false
   },
   "outputs": [
    {
     "name": "stdout",
     "output_type": "stream",
     "text": [
      "R2_Score : 0.804082545654656\n"
     ]
    }
   ],
   "source": [
    "# Evaluasi Regresi linear\n",
    "print('R2_Score :', metrics.r2_score(y_test,y_pred_reg))"
   ]
  },
  {
   "cell_type": "code",
   "execution_count": 11,
   "id": "2c783901a8ca6bd4",
   "metadata": {
    "ExecuteTime": {
     "end_time": "2023-10-11T02:14:04.017432500Z",
     "start_time": "2023-10-11T02:14:03.898375Z"
    },
    "collapsed": false
   },
   "outputs": [
    {
     "data": {
      "text/plain": [
       "628    153\n",
       "167    179\n",
       "299    146\n",
       "345    129\n",
       "429    161\n",
       "      ... \n",
       "731    155\n",
       "719    151\n",
       "12     186\n",
       "669    256\n",
       "392    121\n",
       "Name: Heating_Oil, Length: 244, dtype: int64"
      ]
     },
     "execution_count": 11,
     "metadata": {},
     "output_type": "execute_result"
    }
   ],
   "source": [
    "y_test"
   ]
  },
  {
   "cell_type": "code",
   "execution_count": 12,
   "id": "17d34b993cbd005",
   "metadata": {
    "ExecuteTime": {
     "end_time": "2023-10-11T02:14:04.019430600Z",
     "start_time": "2023-10-11T02:14:03.911903700Z"
    },
    "collapsed": false
   },
   "outputs": [
    {
     "data": {
      "text/plain": [
       "9.140123037467003"
      ]
     },
     "execution_count": 12,
     "metadata": {},
     "output_type": "execute_result"
    }
   ],
   "source": [
    "def mape(y_true, y_pred):\n",
    "    y_true, y_pred = np.array(y_true), np.array(y_pred)\n",
    "    return np.mean(np.abs((y_true - y_pred) / y_true)) * 100\n",
    "\n",
    "mape(y_test, y_pred_reg)"
   ]
  },
  {
   "cell_type": "markdown",
   "id": "79d45bd70266edb5",
   "metadata": {
    "collapsed": false
   },
   "source": [
    "## hasil evaluasi pada model liniear regresion \n",
    "Baik karean R2 menunjukan nilai 0,8 mendekati 1,\n",
    "artinya untuk menjadi excelent hanyak kurang 0,2\n",
    "\n",
    "MAPE = 9,1 Artinya tingkat erro 9,1 dan tinggkat kesuksesan 90,9 %,\n",
    "\n",
    "masi kurang 3 persen untuk masuk kesuksesan\n",
    "\n"
   ]
  },
  {
   "cell_type": "markdown",
   "id": "e52d565ec0028824",
   "metadata": {
    "collapsed": false
   },
   "source": []
  },
  {
   "cell_type": "markdown",
   "id": "6e2f786c40eae1d",
   "metadata": {
    "collapsed": false
   },
   "source": [
    "## Pemodelan dengan MLP Regressor (ANN = Artificial Neural Network)"
   ]
  },
  {
   "cell_type": "code",
   "execution_count": 13,
   "id": "193051fdb897b2ad",
   "metadata": {
    "ExecuteTime": {
     "end_time": "2023-10-11T02:14:04.058441Z",
     "start_time": "2023-10-11T02:14:03.921908Z"
    },
    "collapsed": false
   },
   "outputs": [],
   "source": [
    "from sklearn.neural_network import MLPRegressor"
   ]
  },
  {
   "cell_type": "code",
   "execution_count": 14,
   "id": "fdb821b580090d25",
   "metadata": {
    "ExecuteTime": {
     "end_time": "2023-10-11T02:14:07.534057600Z",
     "start_time": "2023-10-11T02:14:03.939413900Z"
    },
    "collapsed": false
   },
   "outputs": [],
   "source": [
    "# Create an instance of MLPRegressor with desired hyperparameters\n",
    "mlp_reg = MLPRegressor(hidden_layer_sizes=(150, 100, 50), max_iter=1000, learning_rate='adaptive', random_state = 42)  # You can adjust hyperparameters as needed\n",
    "\n",
    "# Train the model on the training data\n",
    "model_mlp = mlp_reg.fit(x_train, y_train)\n",
    "\n",
    "# Make predictions on the test data\n",
    "y_pred_mlp = model_mlp.predict(x_test)"
   ]
  },
  {
   "cell_type": "code",
   "execution_count": 15,
   "id": "3260f26259a5ad59",
   "metadata": {
    "ExecuteTime": {
     "end_time": "2023-10-11T02:14:07.566397700Z",
     "start_time": "2023-10-11T02:14:07.537061500Z"
    },
    "collapsed": false
   },
   "outputs": [
    {
     "name": "stdout",
     "output_type": "stream",
     "text": [
      "r2_score :  0.9124094231695845\n"
     ]
    }
   ],
   "source": [
    "#evaluasi linear regression\n",
    "print('r2_score : ', metrics.r2_score(y_test, y_pred_mlp))"
   ]
  },
  {
   "cell_type": "code",
   "execution_count": 16,
   "id": "eba1898e75117d42",
   "metadata": {
    "ExecuteTime": {
     "end_time": "2023-10-11T02:14:07.570397700Z",
     "start_time": "2023-10-11T02:14:07.546859700Z"
    },
    "collapsed": false
   },
   "outputs": [
    {
     "name": "stdout",
     "output_type": "stream",
     "text": [
      "MAPE :  5.143536101834354\n"
     ]
    }
   ],
   "source": [
    "print(\"MAPE : \", mape(y_test, y_pred_mlp))"
   ]
  },
  {
   "cell_type": "markdown",
   "id": "548ed573977b22f3",
   "metadata": {
    "collapsed": false
   },
   "source": [
    "## Hasil Evaluasi pemodelan neural network (MLP Regressor)\n",
    "\n",
    "1, R2 Score : 0,912 dalam kategori cukup baik\n",
    "2, MAPE : 5,143 % tingkat kesuksesan model = 94,587 %\n",
    "\n",
    "Setelah melakukan tunning param maka model terbaik adalah MLP Regressor (dengan menambahkan 3 hidden layer) dengan MAPE 5,143 % artinya tingkat kesuksessan 94,587 %, R2 = 0,85.\n"
   ]
  },
  {
   "cell_type": "code",
   "execution_count": 17,
   "id": "ed59083de65b9c02",
   "metadata": {
    "ExecuteTime": {
     "end_time": "2023-10-11T02:14:57.528157400Z",
     "start_time": "2023-10-11T02:14:57.430483600Z"
    },
    "collapsed": false
   },
   "outputs": [
    {
     "data": {
      "text/html": [
       "<div>\n",
       "<style scoped>\n",
       "    .dataframe tbody tr th:only-of-type {\n",
       "        vertical-align: middle;\n",
       "    }\n",
       "\n",
       "    .dataframe tbody tr th {\n",
       "        vertical-align: top;\n",
       "    }\n",
       "\n",
       "    .dataframe thead th {\n",
       "        text-align: right;\n",
       "    }\n",
       "</style>\n",
       "<table border=\"1\" class=\"dataframe\">\n",
       "  <thead>\n",
       "    <tr style=\"text-align: right;\">\n",
       "      <th></th>\n",
       "      <th>Insulation</th>\n",
       "      <th>Temperature</th>\n",
       "      <th>Num_Occupants</th>\n",
       "      <th>Avg_Age</th>\n",
       "      <th>Home_Size</th>\n",
       "    </tr>\n",
       "  </thead>\n",
       "  <tbody>\n",
       "    <tr>\n",
       "      <th>0</th>\n",
       "      <td>5</td>\n",
       "      <td>69</td>\n",
       "      <td>10</td>\n",
       "      <td>70.1</td>\n",
       "      <td>7</td>\n",
       "    </tr>\n",
       "    <tr>\n",
       "      <th>1</th>\n",
       "      <td>5</td>\n",
       "      <td>80</td>\n",
       "      <td>1</td>\n",
       "      <td>66.7</td>\n",
       "      <td>1</td>\n",
       "    </tr>\n",
       "    <tr>\n",
       "      <th>2</th>\n",
       "      <td>4</td>\n",
       "      <td>89</td>\n",
       "      <td>9</td>\n",
       "      <td>67.8</td>\n",
       "      <td>7</td>\n",
       "    </tr>\n",
       "    <tr>\n",
       "      <th>3</th>\n",
       "      <td>7</td>\n",
       "      <td>81</td>\n",
       "      <td>9</td>\n",
       "      <td>52.4</td>\n",
       "      <td>6</td>\n",
       "    </tr>\n",
       "    <tr>\n",
       "      <th>4</th>\n",
       "      <td>4</td>\n",
       "      <td>58</td>\n",
       "      <td>8</td>\n",
       "      <td>22.9</td>\n",
       "      <td>7</td>\n",
       "    </tr>\n",
       "    <tr>\n",
       "      <th>...</th>\n",
       "      <td>...</td>\n",
       "      <td>...</td>\n",
       "      <td>...</td>\n",
       "      <td>...</td>\n",
       "      <td>...</td>\n",
       "    </tr>\n",
       "    <tr>\n",
       "      <th>42645</th>\n",
       "      <td>7</td>\n",
       "      <td>63</td>\n",
       "      <td>9</td>\n",
       "      <td>59.1</td>\n",
       "      <td>8</td>\n",
       "    </tr>\n",
       "    <tr>\n",
       "      <th>42646</th>\n",
       "      <td>7</td>\n",
       "      <td>84</td>\n",
       "      <td>1</td>\n",
       "      <td>43.6</td>\n",
       "      <td>5</td>\n",
       "    </tr>\n",
       "    <tr>\n",
       "      <th>42647</th>\n",
       "      <td>2</td>\n",
       "      <td>67</td>\n",
       "      <td>1</td>\n",
       "      <td>27.3</td>\n",
       "      <td>4</td>\n",
       "    </tr>\n",
       "    <tr>\n",
       "      <th>42648</th>\n",
       "      <td>8</td>\n",
       "      <td>58</td>\n",
       "      <td>1</td>\n",
       "      <td>65.7</td>\n",
       "      <td>3</td>\n",
       "    </tr>\n",
       "    <tr>\n",
       "      <th>42649</th>\n",
       "      <td>7</td>\n",
       "      <td>85</td>\n",
       "      <td>5</td>\n",
       "      <td>56.9</td>\n",
       "      <td>8</td>\n",
       "    </tr>\n",
       "  </tbody>\n",
       "</table>\n",
       "<p>42650 rows × 5 columns</p>\n",
       "</div>"
      ],
      "text/plain": [
       "       Insulation  Temperature  Num_Occupants  Avg_Age  Home_Size\n",
       "0               5           69             10     70.1          7\n",
       "1               5           80              1     66.7          1\n",
       "2               4           89              9     67.8          7\n",
       "3               7           81              9     52.4          6\n",
       "4               4           58              8     22.9          7\n",
       "...           ...          ...            ...      ...        ...\n",
       "42645           7           63              9     59.1          8\n",
       "42646           7           84              1     43.6          5\n",
       "42647           2           67              1     27.3          4\n",
       "42648           8           58              1     65.7          3\n",
       "42649           7           85              5     56.9          8\n",
       "\n",
       "[42650 rows x 5 columns]"
      ]
     },
     "execution_count": 17,
     "metadata": {},
     "output_type": "execute_result"
    }
   ],
   "source": [
    "data1 = pd.read_csv('heatingOilNewust.csv')\n",
    "data1"
   ]
  },
  {
   "cell_type": "code",
   "execution_count": 19,
   "id": "8984490589c6ecfa",
   "metadata": {
    "ExecuteTime": {
     "end_time": "2023-10-11T02:16:34.072779Z",
     "start_time": "2023-10-11T02:16:34.026334400Z"
    },
    "collapsed": false
   },
   "outputs": [
    {
     "data": {
      "text/html": [
       "<div>\n",
       "<style scoped>\n",
       "    .dataframe tbody tr th:only-of-type {\n",
       "        vertical-align: middle;\n",
       "    }\n",
       "\n",
       "    .dataframe tbody tr th {\n",
       "        vertical-align: top;\n",
       "    }\n",
       "\n",
       "    .dataframe thead th {\n",
       "        text-align: right;\n",
       "    }\n",
       "</style>\n",
       "<table border=\"1\" class=\"dataframe\">\n",
       "  <thead>\n",
       "    <tr style=\"text-align: right;\">\n",
       "      <th></th>\n",
       "      <th>Insulation</th>\n",
       "      <th>Temperature</th>\n",
       "      <th>Num_Occupants</th>\n",
       "      <th>Avg_Age</th>\n",
       "      <th>Home_Size</th>\n",
       "    </tr>\n",
       "  </thead>\n",
       "  <tbody>\n",
       "    <tr>\n",
       "      <th>0</th>\n",
       "      <td>5</td>\n",
       "      <td>69</td>\n",
       "      <td>10</td>\n",
       "      <td>70.1</td>\n",
       "      <td>7</td>\n",
       "    </tr>\n",
       "    <tr>\n",
       "      <th>1</th>\n",
       "      <td>5</td>\n",
       "      <td>80</td>\n",
       "      <td>1</td>\n",
       "      <td>66.7</td>\n",
       "      <td>1</td>\n",
       "    </tr>\n",
       "    <tr>\n",
       "      <th>2</th>\n",
       "      <td>4</td>\n",
       "      <td>89</td>\n",
       "      <td>9</td>\n",
       "      <td>67.8</td>\n",
       "      <td>7</td>\n",
       "    </tr>\n",
       "    <tr>\n",
       "      <th>3</th>\n",
       "      <td>7</td>\n",
       "      <td>81</td>\n",
       "      <td>9</td>\n",
       "      <td>52.4</td>\n",
       "      <td>6</td>\n",
       "    </tr>\n",
       "    <tr>\n",
       "      <th>4</th>\n",
       "      <td>4</td>\n",
       "      <td>58</td>\n",
       "      <td>8</td>\n",
       "      <td>22.9</td>\n",
       "      <td>7</td>\n",
       "    </tr>\n",
       "    <tr>\n",
       "      <th>...</th>\n",
       "      <td>...</td>\n",
       "      <td>...</td>\n",
       "      <td>...</td>\n",
       "      <td>...</td>\n",
       "      <td>...</td>\n",
       "    </tr>\n",
       "    <tr>\n",
       "      <th>42645</th>\n",
       "      <td>7</td>\n",
       "      <td>63</td>\n",
       "      <td>9</td>\n",
       "      <td>59.1</td>\n",
       "      <td>8</td>\n",
       "    </tr>\n",
       "    <tr>\n",
       "      <th>42646</th>\n",
       "      <td>7</td>\n",
       "      <td>84</td>\n",
       "      <td>1</td>\n",
       "      <td>43.6</td>\n",
       "      <td>5</td>\n",
       "    </tr>\n",
       "    <tr>\n",
       "      <th>42647</th>\n",
       "      <td>2</td>\n",
       "      <td>67</td>\n",
       "      <td>1</td>\n",
       "      <td>27.3</td>\n",
       "      <td>4</td>\n",
       "    </tr>\n",
       "    <tr>\n",
       "      <th>42648</th>\n",
       "      <td>8</td>\n",
       "      <td>58</td>\n",
       "      <td>1</td>\n",
       "      <td>65.7</td>\n",
       "      <td>3</td>\n",
       "    </tr>\n",
       "    <tr>\n",
       "      <th>42649</th>\n",
       "      <td>7</td>\n",
       "      <td>85</td>\n",
       "      <td>5</td>\n",
       "      <td>56.9</td>\n",
       "      <td>8</td>\n",
       "    </tr>\n",
       "  </tbody>\n",
       "</table>\n",
       "<p>42650 rows × 5 columns</p>\n",
       "</div>"
      ],
      "text/plain": [
       "       Insulation  Temperature  Num_Occupants  Avg_Age  Home_Size\n",
       "0               5           69             10     70.1          7\n",
       "1               5           80              1     66.7          1\n",
       "2               4           89              9     67.8          7\n",
       "3               7           81              9     52.4          6\n",
       "4               4           58              8     22.9          7\n",
       "...           ...          ...            ...      ...        ...\n",
       "42645           7           63              9     59.1          8\n",
       "42646           7           84              1     43.6          5\n",
       "42647           2           67              1     27.3          4\n",
       "42648           8           58              1     65.7          3\n",
       "42649           7           85              5     56.9          8\n",
       "\n",
       "[42650 rows x 5 columns]"
      ]
     },
     "execution_count": 19,
     "metadata": {},
     "output_type": "execute_result"
    }
   ],
   "source": [
    "x1 = data1[['Insulation', 'Temperature','Num_Occupants','Avg_Age','Home_Size']]\n",
    "x1"
   ]
  },
  {
   "cell_type": "code",
   "execution_count": 20,
   "id": "5c0f6c3e056c9c7e",
   "metadata": {
    "ExecuteTime": {
     "end_time": "2023-10-11T02:18:34.816816800Z",
     "start_time": "2023-10-11T02:18:34.565748200Z"
    },
    "collapsed": false
   },
   "outputs": [],
   "source": [
    "y_pred1_mlp = model_mlp.predict(x1)\n"
   ]
  },
  {
   "cell_type": "code",
   "execution_count": 21,
   "id": "726dd76c4a53c769",
   "metadata": {
    "ExecuteTime": {
     "end_time": "2023-10-11T02:18:42.119718100Z",
     "start_time": "2023-10-11T02:18:42.083566400Z"
    },
    "collapsed": false
   },
   "outputs": [
    {
     "data": {
      "text/plain": [
       "array([286.11722846, 181.41635006, 209.57763446, ..., 128.22482641,\n",
       "       279.99704223, 218.71852447])"
      ]
     },
     "execution_count": 21,
     "metadata": {},
     "output_type": "execute_result"
    }
   ],
   "source": [
    "y_pred1_mlp"
   ]
  },
  {
   "cell_type": "code",
   "execution_count": 22,
   "id": "58d28159d5c8ee72",
   "metadata": {
    "ExecuteTime": {
     "end_time": "2023-10-11T02:20:52.263936900Z",
     "start_time": "2023-10-11T02:20:52.243509600Z"
    },
    "collapsed": false
   },
   "outputs": [
    {
     "data": {
      "text/html": [
       "<div>\n",
       "<style scoped>\n",
       "    .dataframe tbody tr th:only-of-type {\n",
       "        vertical-align: middle;\n",
       "    }\n",
       "\n",
       "    .dataframe tbody tr th {\n",
       "        vertical-align: top;\n",
       "    }\n",
       "\n",
       "    .dataframe thead th {\n",
       "        text-align: right;\n",
       "    }\n",
       "</style>\n",
       "<table border=\"1\" class=\"dataframe\">\n",
       "  <thead>\n",
       "    <tr style=\"text-align: right;\">\n",
       "      <th></th>\n",
       "      <th>Prediction_HeatingOil</th>\n",
       "    </tr>\n",
       "  </thead>\n",
       "  <tbody>\n",
       "    <tr>\n",
       "      <th>0</th>\n",
       "      <td>286.12</td>\n",
       "    </tr>\n",
       "    <tr>\n",
       "      <th>1</th>\n",
       "      <td>181.42</td>\n",
       "    </tr>\n",
       "    <tr>\n",
       "      <th>2</th>\n",
       "      <td>209.58</td>\n",
       "    </tr>\n",
       "    <tr>\n",
       "      <th>3</th>\n",
       "      <td>220.26</td>\n",
       "    </tr>\n",
       "    <tr>\n",
       "      <th>4</th>\n",
       "      <td>157.19</td>\n",
       "    </tr>\n",
       "    <tr>\n",
       "      <th>...</th>\n",
       "      <td>...</td>\n",
       "    </tr>\n",
       "    <tr>\n",
       "      <th>42645</th>\n",
       "      <td>248.13</td>\n",
       "    </tr>\n",
       "    <tr>\n",
       "      <th>42646</th>\n",
       "      <td>201.32</td>\n",
       "    </tr>\n",
       "    <tr>\n",
       "      <th>42647</th>\n",
       "      <td>128.22</td>\n",
       "    </tr>\n",
       "    <tr>\n",
       "      <th>42648</th>\n",
       "      <td>280.00</td>\n",
       "    </tr>\n",
       "    <tr>\n",
       "      <th>42649</th>\n",
       "      <td>218.72</td>\n",
       "    </tr>\n",
       "  </tbody>\n",
       "</table>\n",
       "<p>42650 rows × 1 columns</p>\n",
       "</div>"
      ],
      "text/plain": [
       "       Prediction_HeatingOil\n",
       "0                     286.12\n",
       "1                     181.42\n",
       "2                     209.58\n",
       "3                     220.26\n",
       "4                     157.19\n",
       "...                      ...\n",
       "42645                 248.13\n",
       "42646                 201.32\n",
       "42647                 128.22\n",
       "42648                 280.00\n",
       "42649                 218.72\n",
       "\n",
       "[42650 rows x 1 columns]"
      ]
     },
     "execution_count": 22,
     "metadata": {},
     "output_type": "execute_result"
    }
   ],
   "source": [
    "data_y_pred1_mlp = pd.DataFrame({'Prediction_HeatingOil':y_pred1_mlp}).round((2))\n",
    "data_y_pred1_mlp"
   ]
  },
  {
   "cell_type": "code",
   "execution_count": 23,
   "id": "340be94713a6b1fa",
   "metadata": {
    "ExecuteTime": {
     "end_time": "2023-10-11T02:27:05.496506300Z",
     "start_time": "2023-10-11T02:27:05.475319400Z"
    },
    "collapsed": false
   },
   "outputs": [],
   "source": [
    "# menggabungkan dataset newcust dengan hasil predict\n",
    "\n",
    "data_hasil_pred = pd.concat([data1,data_y_pred1_mlp], sort=False, axis=1)"
   ]
  },
  {
   "cell_type": "code",
   "execution_count": 25,
   "id": "116f31540a0ef470",
   "metadata": {
    "ExecuteTime": {
     "end_time": "2023-10-11T02:32:21.490366600Z",
     "start_time": "2023-10-11T02:32:21.452604900Z"
    },
    "collapsed": false
   },
   "outputs": [
    {
     "data": {
      "text/html": [
       "<div>\n",
       "<style scoped>\n",
       "    .dataframe tbody tr th:only-of-type {\n",
       "        vertical-align: middle;\n",
       "    }\n",
       "\n",
       "    .dataframe tbody tr th {\n",
       "        vertical-align: top;\n",
       "    }\n",
       "\n",
       "    .dataframe thead th {\n",
       "        text-align: right;\n",
       "    }\n",
       "</style>\n",
       "<table border=\"1\" class=\"dataframe\">\n",
       "  <thead>\n",
       "    <tr style=\"text-align: right;\">\n",
       "      <th></th>\n",
       "      <th>Insulation</th>\n",
       "      <th>Temperature</th>\n",
       "      <th>Num_Occupants</th>\n",
       "      <th>Avg_Age</th>\n",
       "      <th>Home_Size</th>\n",
       "      <th>Prediction_HeatingOil</th>\n",
       "    </tr>\n",
       "  </thead>\n",
       "  <tbody>\n",
       "    <tr>\n",
       "      <th>0</th>\n",
       "      <td>5</td>\n",
       "      <td>69</td>\n",
       "      <td>10</td>\n",
       "      <td>70.1</td>\n",
       "      <td>7</td>\n",
       "      <td>286.12</td>\n",
       "    </tr>\n",
       "    <tr>\n",
       "      <th>1</th>\n",
       "      <td>5</td>\n",
       "      <td>80</td>\n",
       "      <td>1</td>\n",
       "      <td>66.7</td>\n",
       "      <td>1</td>\n",
       "      <td>181.42</td>\n",
       "    </tr>\n",
       "    <tr>\n",
       "      <th>2</th>\n",
       "      <td>4</td>\n",
       "      <td>89</td>\n",
       "      <td>9</td>\n",
       "      <td>67.8</td>\n",
       "      <td>7</td>\n",
       "      <td>209.58</td>\n",
       "    </tr>\n",
       "    <tr>\n",
       "      <th>3</th>\n",
       "      <td>7</td>\n",
       "      <td>81</td>\n",
       "      <td>9</td>\n",
       "      <td>52.4</td>\n",
       "      <td>6</td>\n",
       "      <td>220.26</td>\n",
       "    </tr>\n",
       "    <tr>\n",
       "      <th>4</th>\n",
       "      <td>4</td>\n",
       "      <td>58</td>\n",
       "      <td>8</td>\n",
       "      <td>22.9</td>\n",
       "      <td>7</td>\n",
       "      <td>157.19</td>\n",
       "    </tr>\n",
       "    <tr>\n",
       "      <th>...</th>\n",
       "      <td>...</td>\n",
       "      <td>...</td>\n",
       "      <td>...</td>\n",
       "      <td>...</td>\n",
       "      <td>...</td>\n",
       "      <td>...</td>\n",
       "    </tr>\n",
       "    <tr>\n",
       "      <th>42645</th>\n",
       "      <td>7</td>\n",
       "      <td>63</td>\n",
       "      <td>9</td>\n",
       "      <td>59.1</td>\n",
       "      <td>8</td>\n",
       "      <td>248.13</td>\n",
       "    </tr>\n",
       "    <tr>\n",
       "      <th>42646</th>\n",
       "      <td>7</td>\n",
       "      <td>84</td>\n",
       "      <td>1</td>\n",
       "      <td>43.6</td>\n",
       "      <td>5</td>\n",
       "      <td>201.32</td>\n",
       "    </tr>\n",
       "    <tr>\n",
       "      <th>42647</th>\n",
       "      <td>2</td>\n",
       "      <td>67</td>\n",
       "      <td>1</td>\n",
       "      <td>27.3</td>\n",
       "      <td>4</td>\n",
       "      <td>128.22</td>\n",
       "    </tr>\n",
       "    <tr>\n",
       "      <th>42648</th>\n",
       "      <td>8</td>\n",
       "      <td>58</td>\n",
       "      <td>1</td>\n",
       "      <td>65.7</td>\n",
       "      <td>3</td>\n",
       "      <td>280.00</td>\n",
       "    </tr>\n",
       "    <tr>\n",
       "      <th>42649</th>\n",
       "      <td>7</td>\n",
       "      <td>85</td>\n",
       "      <td>5</td>\n",
       "      <td>56.9</td>\n",
       "      <td>8</td>\n",
       "      <td>218.72</td>\n",
       "    </tr>\n",
       "  </tbody>\n",
       "</table>\n",
       "<p>42650 rows × 6 columns</p>\n",
       "</div>"
      ],
      "text/plain": [
       "       Insulation  Temperature  Num_Occupants  Avg_Age  Home_Size  \\\n",
       "0               5           69             10     70.1          7   \n",
       "1               5           80              1     66.7          1   \n",
       "2               4           89              9     67.8          7   \n",
       "3               7           81              9     52.4          6   \n",
       "4               4           58              8     22.9          7   \n",
       "...           ...          ...            ...      ...        ...   \n",
       "42645           7           63              9     59.1          8   \n",
       "42646           7           84              1     43.6          5   \n",
       "42647           2           67              1     27.3          4   \n",
       "42648           8           58              1     65.7          3   \n",
       "42649           7           85              5     56.9          8   \n",
       "\n",
       "       Prediction_HeatingOil  \n",
       "0                     286.12  \n",
       "1                     181.42  \n",
       "2                     209.58  \n",
       "3                     220.26  \n",
       "4                     157.19  \n",
       "...                      ...  \n",
       "42645                 248.13  \n",
       "42646                 201.32  \n",
       "42647                 128.22  \n",
       "42648                 280.00  \n",
       "42649                 218.72  \n",
       "\n",
       "[42650 rows x 6 columns]"
      ]
     },
     "execution_count": 25,
     "metadata": {},
     "output_type": "execute_result"
    }
   ],
   "source": [
    "data_hasil_pred"
   ]
  }
 ],
 "metadata": {
  "kernelspec": {
   "display_name": "Python 3",
   "language": "python",
   "name": "python3"
  },
  "language_info": {
   "codemirror_mode": {
    "name": "ipython",
    "version": 2
   },
   "file_extension": ".py",
   "mimetype": "text/x-python",
   "name": "python",
   "nbconvert_exporter": "python",
   "pygments_lexer": "ipython2",
   "version": "2.7.6"
  }
 },
 "nbformat": 4,
 "nbformat_minor": 5
}
